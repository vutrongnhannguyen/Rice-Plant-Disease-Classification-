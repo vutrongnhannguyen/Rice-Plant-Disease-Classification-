{
 "cells": [
  {
   "cell_type": "code",
   "execution_count": 25,
   "id": "2dc8e7cc",
   "metadata": {},
   "outputs": [],
   "source": [
    "\n",
    "import os\n",
    "import cv2\n",
    "import pandas as pd\n",
    "import albumentations as A\n",
    "from tqdm import tqdm\n",
    "import random\n",
    "\n",
    "def generate_augmented_images(df_resampled, original_dir, output_dir, augmentations_per_image=1):\n",
    "    os.makedirs(output_dir, exist_ok=True)\n",
    "    \n",
    "    aug = A.Compose([\n",
    "        A.HorizontalFlip(p=0.5),\n",
    "        A.VerticalFlip(p=0.5),\n",
    "        A.RandomBrightnessContrast(p=0.3),\n",
    "        A.CLAHE(p=0.3),\n",
    "    ])\n",
    "\n",
    "    # Pre-compute existing original images to avoid repeated os.path.exists calls\n",
    "    original_images = set()\n",
    "    for label in os.listdir(original_dir):\n",
    "        label_dir = os.path.join(original_dir, label)\n",
    "        if os.path.isdir(label_dir):\n",
    "            original_images.update(\n",
    "                os.path.join(label, f) \n",
    "                for f in os.listdir(label_dir) \n",
    "                if f.endswith('.jpg')\n",
    "            )\n",
    "\n",
    "    generated_count = 0\n",
    "\n",
    "    for _, row in tqdm(df_resampled.iterrows(), total=len(df_resampled)):\n",
    "        original_path = os.path.join(row['label'], row['image_id'])\n",
    "        output_path = os.path.join(output_dir, row['label'], row['image_id'])\n",
    "        \n",
    "        # Skip ONLY if the image already exists in the ORIGINAL folder\n",
    "        if original_path in original_images:\n",
    "            continue\n",
    "            \n",
    "        # Create output subdirectory if needed\n",
    "        os.makedirs(os.path.dirname(output_path), exist_ok=True)\n",
    "        \n",
    "        # Randomly select an original image from the same class\n",
    "        class_dir = os.path.join(original_dir, row['label'])\n",
    "        class_images = [f for f in os.listdir(class_dir) if f.endswith('.jpg')]\n",
    "        if not class_images:\n",
    "            continue\n",
    "            \n",
    "        original_img = cv2.imread(os.path.join(class_dir, random.choice(class_images)))\n",
    "        \n",
    "        # Generate augmented image\n",
    "        augmented = aug(image=original_img)['image']\n",
    "        cv2.imwrite(output_path, augmented)\n",
    "        generated_count += 1\n",
    "\n",
    "    print(f\"Generated {generated_count} synthetic images in {output_dir}\")\n",
    "\n"
   ]
  },
  {
   "cell_type": "code",
   "execution_count": 26,
   "id": "c368c392",
   "metadata": {},
   "outputs": [
    {
     "name": "stderr",
     "output_type": "stream",
     "text": [
      "  0%|          | 0/17420 [00:00<?, ?it/s]"
     ]
    },
    {
     "name": "stderr",
     "output_type": "stream",
     "text": [
      "100%|██████████| 17420/17420 [00:20<00:00, 854.84it/s] "
     ]
    },
    {
     "name": "stdout",
     "output_type": "stream",
     "text": [
      "Generated 6125 synthetic images in Dataset/SMOT_images\n"
     ]
    },
    {
     "name": "stderr",
     "output_type": "stream",
     "text": [
      "\n"
     ]
    }
   ],
   "source": [
    "df_resampled = pd.read_csv(\"processed_data/cleaned_metadata.csv\") \n",
    "generate_augmented_images(\n",
    "    df_resampled,\n",
    "    original_dir=\"Dataset/train_images\",\n",
    "    output_dir=\"Dataset/SMOT_images\"\n",
    ")"
   ]
  },
  {
   "cell_type": "code",
   "execution_count": 27,
   "id": "eab5bcfa",
   "metadata": {},
   "outputs": [
    {
     "data": {
      "image/png": "[encoded data removed]",
      "text/plain": [
       "<Figure size 800x500 with 1 Axes>"
      ]
     },
     "metadata": {},
     "output_type": "display_data"
    }
   ],
   "source": [
    "import matplotlib.pyplot as plt\n",
    "import seaborn as sns\n",
    "\n",
    "df_read = pd.read_csv(\"processed_data/cleaned_metadata.csv\")\n",
    "df_original = df_read.copy()\n",
    "FIGSIZE = (8, 5)\n",
    "plt.figure(figsize=FIGSIZE)\n",
    "sns.countplot(data=df_original, x=\"label\")\n",
    "plt.show()"
   ]
  },
  {
   "cell_type": "code",
   "execution_count": 28,
   "id": "84667270",
   "metadata": {},
   "outputs": [
    {
     "name": "stdout",
     "output_type": "stream",
     "text": [
      "=== Image Counts by Label (From Folders) ===\n",
      "bacterial_leaf_blight: 1004 images\n",
      "bacterial_leaf_streak: 1075 images\n",
      "bacterial_panicle_blight: 1114 images\n",
      "blast: 24 images\n",
      "brown_spot: 584 images\n",
      "dead_heart: 225 images\n",
      "downy_mildew: 887 images\n",
      "hispa: 126 images\n",
      "tungro: 487 images\n",
      "TOTAL: 5526 images\n"
     ]
    }
   ],
   "source": [
    "from collections import defaultdict\n",
    "\n",
    "def count_images_in_folders(data_dir):\n",
    "    \"\"\"\n",
    "    Counts image files in each subfolder (by label).\n",
    "    \n",
    "    Args:\n",
    "        data_dir (str): Path to the dataset root (e.g., 'Dataset/train_images').\n",
    "    \n",
    "    Returns:\n",
    "        dict: {label: image_count}\n",
    "    \"\"\"\n",
    "    counts = defaultdict(int)\n",
    "    \n",
    "    for label in os.listdir(data_dir):\n",
    "        label_dir = os.path.join(data_dir, label)\n",
    "        if os.path.isdir(label_dir):\n",
    "            counts[label] = len([\n",
    "                f for f in os.listdir(label_dir) \n",
    "                if f.lower().endswith(('.jpg', '.jpeg', '.png'))\n",
    "            ])\n",
    "    \n",
    "    return dict(counts)\n",
    "\n",
    "data_path = \"Dataset/SMOT_images\"  \n",
    "folder_counts = count_images_in_folders(data_path)\n",
    "\n",
    "print(\"=== Image Counts by Label (From Folders) ===\")\n",
    "for label, count in folder_counts.items():\n",
    "    print(f\"{label}: {count} images\")\n",
    "print(f\"TOTAL: {sum(folder_counts.values())} images\")"
   ]
  },
  {
   "cell_type": "code",
   "execution_count": 29,
   "id": "fff6a5c1",
   "metadata": {},
   "outputs": [
    {
     "name": "stdout",
     "output_type": "stream",
     "text": [
      "=== Image Counts by Label (From Folders) ===\n",
      "bacterial_leaf_blight: 479 images\n",
      "bacterial_leaf_streak: 380 images\n",
      "bacterial_panicle_blight: 337 images\n",
      "blast: 1738 images\n",
      "brown_spot: 965 images\n",
      "dead_heart: 1442 images\n",
      "downy_mildew: 620 images\n",
      "hispa: 1594 images\n",
      "normal: 1764 images\n",
      "tungro: 1088 images\n",
      "TOTAL: 10407 images\n"
     ]
    }
   ],
   "source": [
    "data_path = \"Dataset/train_images\"  \n",
    "folder_counts = count_images_in_folders(data_path)\n",
    "\n",
    "print(\"=== Image Counts by Label (From Folders) ===\")\n",
    "for label, count in folder_counts.items():\n",
    "    print(f\"{label}: {count} images\")\n",
    "print(f\"TOTAL: {sum(folder_counts.values())} images\")"
   ]
  },
  {
   "cell_type": "code",
   "execution_count": 30,
   "id": "16607d10",
   "metadata": {},
   "outputs": [
    {
     "name": "stderr",
     "output_type": "stream",
     "text": [
      "100%|██████████| 10/10 [00:03<00:00,  2.77it/s]"
     ]
    },
    {
     "name": "stdout",
     "output_type": "stream",
     "text": [
      "Merged dataset created at: Dataset/merged_SMOT_train\n"
     ]
    },
    {
     "name": "stderr",
     "output_type": "stream",
     "text": [
      "\n"
     ]
    }
   ],
   "source": [
    "import os\n",
    "import shutil\n",
    "from tqdm import tqdm\n",
    "\n",
    "def merge_datasets(original_dir, smote_dir, output_dir):\n",
    "    \"\"\"\n",
    "    Merges original and SMOTE-augmented images into a single dataset.\n",
    "    \"\"\"\n",
    "    os.makedirs(output_dir, exist_ok=True)\n",
    "    \n",
    "    # Iterate through all class subdirectories\n",
    "    for label in tqdm(os.listdir(original_dir)):\n",
    "        original_label_dir = os.path.join(original_dir, label)\n",
    "        smote_label_dir = os.path.join(smote_dir, label)\n",
    "        output_label_dir = os.path.join(output_dir, label)\n",
    "        \n",
    "        os.makedirs(output_label_dir, exist_ok=True)\n",
    "        \n",
    "        for img_file in os.listdir(original_label_dir):\n",
    "            src = os.path.join(original_label_dir, img_file)\n",
    "            dst = os.path.join(output_label_dir, img_file)\n",
    "            if not os.path.exists(dst):\n",
    "                shutil.copy2(src, dst)\n",
    "        \n",
    "        if os.path.exists(smote_label_dir):\n",
    "            for img_file in os.listdir(smote_label_dir):\n",
    "                src = os.path.join(smote_label_dir, img_file)\n",
    "                dst = os.path.join(output_label_dir, img_file)\n",
    "                if not os.path.exists(dst):\n",
    "                    shutil.copy2(src, dst)\n",
    "\n",
    "    print(f\"Merged dataset created at: {output_dir}\")\n",
    "\n",
    "# Usage\n",
    "merge_datasets(\n",
    "    original_dir=\"Dataset/train_images\",      # Original images\n",
    "    smote_dir=\"Dataset/SMOT_images\",         # SMOTE-augmented images\n",
    "    output_dir=\"Dataset/merged_SMOT_train\"  # Final merged dataset\n",
    ")"
   ]
  },
  {
   "cell_type": "code",
   "execution_count": 31,
   "id": "999d43c1",
   "metadata": {},
   "outputs": [
    {
     "name": "stdout",
     "output_type": "stream",
     "text": [
      "=== Image Counts by Label (From Folders) ===\n",
      "bacterial_leaf_blight: 1483 images\n",
      "bacterial_leaf_streak: 1455 images\n",
      "bacterial_panicle_blight: 1451 images\n",
      "blast: 1762 images\n",
      "brown_spot: 1549 images\n",
      "dead_heart: 1667 images\n",
      "downy_mildew: 1507 images\n",
      "hispa: 1720 images\n",
      "normal: 1764 images\n",
      "tungro: 1575 images\n",
      "TOTAL: 15933 images\n"
     ]
    }
   ],
   "source": [
    "data_path = \"Dataset/merged_SMOT_train\"  \n",
    "folder_counts = count_images_in_folders(data_path)\n",
    "\n",
    "print(\"=== Image Counts by Label (From Folders) ===\")\n",
    "for label, count in folder_counts.items():\n",
    "    print(f\"{label}: {count} images\")\n",
    "print(f\"TOTAL: {sum(folder_counts.values())} images\")"
   ]
  }
 ],
 "metadata": {
  "kernelspec": {
   "display_name": "base",
   "language": "python",
   "name": "python3"
  },
  "language_info": {
   "codemirror_mode": {
    "name": "ipython",
    "version": 3
   },
   "file_extension": ".py",
   "mimetype": "text/x-python",
   "name": "python",
   "nbconvert_exporter": "python",
   "pygments_lexer": "ipython3",
   "version": "3.12.7"
  }
 },
 "nbformat": 4,
 "nbformat_minor": 5
}
