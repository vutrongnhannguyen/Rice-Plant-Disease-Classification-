{
 "cells": [
  {
   "cell_type": "code",
   "execution_count": 1,
   "id": "d9e4769b",
   "metadata": {},
   "outputs": [],
   "source": [
    "import tensorflow as tf\n",
    "gpus = tf.config.list_physical_devices('GPU')\n",
    "if gpus:\n",
    "    try:\n",
    "        for gpu in gpus:\n",
    "            tf.config.experimental.set_memory_growth(gpu, True)\n",
    "    except RuntimeError as e:\n",
    "        print(e)\n",
    "\n",
    "# Now import other libraries or define your model\n"
   ]
  },
  {
   "cell_type": "code",
   "execution_count": 2,
   "id": "9f4cfac7",
   "metadata": {},
   "outputs": [
    {
     "name": "stdout",
     "output_type": "stream",
     "text": [
      "Success: zlibwapi.dll is accessible!\n"
     ]
    }
   ],
   "source": [
    "import ctypes\n",
    "try:\n",
    "    ctypes.WinDLL('zlibwapi.dll')  # Test loading the DLL\n",
    "    print(\"Success: zlibwapi.dll is accessible!\")\n",
    "except Exception as e:\n",
    "    print(f\"Error: {e}\")"
   ]
  },
  {
   "cell_type": "code",
   "execution_count": 3,
   "id": "7e91c413",
   "metadata": {},
   "outputs": [],
   "source": [
    "import os\n",
    "import random\n",
    "import numpy as np\n",
    "import pandas as pd\n",
    "import tensorflow as tf\n",
    "import matplotlib.pyplot as plt\n",
    "\n",
    "from sklearn.metrics import accuracy_score, confusion_matrix, ConfusionMatrixDisplay, classification_report\n",
    "from sklearn.preprocessing import LabelEncoder\n",
    "from sklearn.model_selection import train_test_split\n",
    "\n",
    "from tensorflow.keras.optimizers import Adam\n",
    "from tensorflow.keras.models import Sequential\n",
    "from tensorflow.keras.utils import to_categorical\n",
    "from tensorflow.keras.callbacks import EarlyStopping\n",
    "from tensorflow.keras.preprocessing.image import ImageDataGenerator\n",
    "from tensorflow.keras.preprocessing.image import load_img, img_to_array\n",
    "from tensorflow.keras.layers import Conv2D, MaxPooling2D, Flatten, Dense, Dropout"
   ]
  },
  {
   "cell_type": "code",
   "execution_count": 4,
   "id": "57e5aa4e",
   "metadata": {},
   "outputs": [
    {
     "name": "stdout",
     "output_type": "stream",
     "text": [
      "Num GPUs Available:  1\n"
     ]
    }
   ],
   "source": [
    "print(\"Num GPUs Available: \", len(tf.config.list_physical_devices('GPU')))"
   ]
  },
  {
   "cell_type": "code",
   "execution_count": 5,
   "id": "1c06ec79",
   "metadata": {},
   "outputs": [],
   "source": [
    "from keras import backend as K\n",
    "\n",
    "# Clear previous sessions\n",
    "K.clear_session()"
   ]
  },
  {
   "cell_type": "code",
   "execution_count": 6,
   "id": "e9b31ccc",
   "metadata": {},
   "outputs": [],
   "source": [
    "SEED = 42\n",
    "random.seed(SEED)\n",
    "np.random.seed(SEED)\n",
    "tf.random.set_seed(SEED)\n",
    "\n",
    "IMG_SIZE = (128, 128)\n",
    "DATA_DIR = \"Dataset/preprocessed_images\"\n",
    "META_CSV = \"Dataset/meta_train.csv\"\n",
    "EPOCHS = 30\n",
    "BATCH_SIZE = 32"
   ]
  },
  {
   "cell_type": "code",
   "execution_count": 7,
   "id": "afa28d2b",
   "metadata": {},
   "outputs": [],
   "source": [
    "meta_df = pd.read_csv(META_CSV)\n",
    "label_map = {label: idx for idx, label in enumerate(meta_df[\"label\"].unique())}\n",
    "meta_df[\"label_encoded\"] = meta_df[\"label\"].map(label_map)\n",
    "meta_df[\"variety_encoded\"] = pd.factorize(meta_df[\"variety\"])[0]\n",
    "num_classes = len(meta_df[\"variety_encoded\"].unique())\n",
    "CLASS_NAMES = meta_df[\"variety\"].unique()"
   ]
  },
  {
   "cell_type": "code",
   "execution_count": 8,
   "id": "a50b3ded",
   "metadata": {},
   "outputs": [],
   "source": [
    "X, y = [], []\n",
    "\n",
    "for _, row in meta_df.iterrows():\n",
    "    img_id = row[\"image_id\"].replace(\".jpg\", \"\")\n",
    "    try:\n",
    "        red = img_to_array(load_img(os.path.join(DATA_DIR, row[\"label\"], img_id + \"_red.jpg\"), target_size=IMG_SIZE)) / 255.0\n",
    "        green = img_to_array(load_img(os.path.join(DATA_DIR, row[\"label\"], img_id + \"_green.jpg\"), target_size=IMG_SIZE)) / 255.0\n",
    "        blue = img_to_array(load_img(os.path.join(DATA_DIR, row[\"label\"], img_id + \"_blue.jpg\"), target_size=IMG_SIZE)) / 255.0\n",
    "        spectral = img_to_array(load_img(os.path.join(DATA_DIR, row[\"label\"], img_id + \"_nipy_spectral.jpg\"),\n",
    "                                         target_size=IMG_SIZE, color_mode=\"grayscale\")) / 255.0\n",
    "        spectral = np.repeat(spectral, 3, axis=-1)\n",
    "        img_array = np.concatenate([red, green, blue, spectral], axis=-1)\n",
    "        X.append(img_array)\n",
    "        y.append(row[\"variety_encoded\"])\n",
    "    except FileNotFoundError:\n",
    "        continue\n",
    "\n",
    "X = np.array(X)\n",
    "y = to_categorical(y, num_classes=num_classes)"
   ]
  },
  {
   "cell_type": "code",
   "execution_count": 9,
   "id": "24642648",
   "metadata": {},
   "outputs": [],
   "source": [
    "X_train, X_test, y_train, y_test = train_test_split(X, y, test_size=0.2, random_state=SEED, stratify=y)\n"
   ]
  },
  {
   "cell_type": "code",
   "execution_count": 10,
   "id": "2ad05067",
   "metadata": {},
   "outputs": [
    {
     "name": "stdout",
     "output_type": "stream",
     "text": [
      "Model: \"sequential\"\n",
      "_________________________________________________________________\n",
      " Layer (type)                Output Shape              Param #   \n",
      "=================================================================\n",
      " conv2d (Conv2D)             (None, 126, 126, 32)      3488      \n",
      "                                                                 \n",
      " max_pooling2d (MaxPooling2D  (None, 63, 63, 32)       0         \n",
      " )                                                               \n",
      "                                                                 \n",
      " conv2d_1 (Conv2D)           (None, 61, 61, 64)        18496     \n",
      "                                                                 \n",
      " max_pooling2d_1 (MaxPooling  (None, 30, 30, 64)       0         \n",
      " 2D)                                                             \n",
      "                                                                 \n",
      " conv2d_2 (Conv2D)           (None, 28, 28, 128)       73856     \n",
      "                                                                 \n",
      " max_pooling2d_2 (MaxPooling  (None, 14, 14, 128)      0         \n",
      " 2D)                                                             \n",
      "                                                                 \n",
      " flatten (Flatten)           (None, 25088)             0         \n",
      "                                                                 \n",
      " dropout (Dropout)           (None, 25088)             0         \n",
      "                                                                 \n",
      " dense (Dense)               (None, 128)               3211392   \n",
      "                                                                 \n",
      " dense_1 (Dense)             (None, 10)                1290      \n",
      "                                                                 \n",
      "=================================================================\n",
      "Total params: 3,308,522\n",
      "Trainable params: 3,308,522\n",
      "Non-trainable params: 0\n",
      "_________________________________________________________________\n"
     ]
    }
   ],
   "source": [
    "model = Sequential([\n",
    "    Conv2D(32, (3, 3), activation='relu', input_shape=(IMG_SIZE[0], IMG_SIZE[1], 12)),\n",
    "    MaxPooling2D(2, 2),\n",
    "    Conv2D(64, (3, 3), activation='relu'),\n",
    "    MaxPooling2D(2, 2),\n",
    "    Conv2D(128, (3, 3), activation='relu'),\n",
    "    MaxPooling2D(2, 2),\n",
    "    Flatten(),\n",
    "    Dropout(0.5),\n",
    "    Dense(128, activation='relu'),\n",
    "    Dense(num_classes, activation='softmax')\n",
    "])\n",
    "\n",
    "model.compile(optimizer=Adam(learning_rate=0.001), loss='categorical_crossentropy', metrics=['accuracy'])\n",
    "model.summary()"
   ]
  },
  {
   "cell_type": "code",
   "execution_count": 11,
   "id": "8cb5f29b",
   "metadata": {},
   "outputs": [
    {
     "name": "stderr",
     "output_type": "stream",
     "text": [
      "c:\\Users\\Administrator\\anaconda3\\envs\\tf-gpu\\lib\\site-packages\\keras\\preprocessing\\image.py:766: UserWarning: NumpyArrayIterator is set to use the data format convention \"channels_last\" (channels on axis 3), i.e. expected either 1, 3, or 4 channels on axis 3. However, it was passed an array with shape (8325, 128, 128, 12) (12 channels).\n",
      "  warnings.warn(\n"
     ]
    },
    {
     "name": "stdout",
     "output_type": "stream",
     "text": [
      "Epoch 1/30\n",
      "261/261 [==============================] - 132s 500ms/step - loss: 1.1960 - accuracy: 0.6804 - val_loss: 1.2123 - val_accuracy: 0.6739\n",
      "Epoch 2/30\n",
      "261/261 [==============================] - 122s 468ms/step - loss: 0.9514 - accuracy: 0.7117 - val_loss: 0.8678 - val_accuracy: 0.7248\n",
      "Epoch 3/30\n",
      "261/261 [==============================] - 128s 492ms/step - loss: 0.7910 - accuracy: 0.7407 - val_loss: 0.6281 - val_accuracy: 0.7959\n",
      "Epoch 4/30\n",
      "261/261 [==============================] - 131s 500ms/step - loss: 0.6593 - accuracy: 0.7791 - val_loss: 0.6305 - val_accuracy: 0.8103\n",
      "Epoch 5/30\n",
      "261/261 [==============================] - 112s 431ms/step - loss: 0.5686 - accuracy: 0.8100 - val_loss: 0.4538 - val_accuracy: 0.8578\n",
      "Epoch 6/30\n",
      "261/261 [==============================] - 133s 510ms/step - loss: 0.4918 - accuracy: 0.8322 - val_loss: 0.4171 - val_accuracy: 0.8578\n",
      "Epoch 7/30\n",
      "261/261 [==============================] - 131s 503ms/step - loss: 0.4279 - accuracy: 0.8550 - val_loss: 0.3703 - val_accuracy: 0.8842\n",
      "Epoch 8/30\n",
      "261/261 [==============================] - 135s 517ms/step - loss: 0.3708 - accuracy: 0.8739 - val_loss: 0.4009 - val_accuracy: 0.8689\n",
      "Epoch 9/30\n",
      "261/261 [==============================] - 105s 402ms/step - loss: 0.3448 - accuracy: 0.8856 - val_loss: 0.2995 - val_accuracy: 0.9121\n",
      "Epoch 10/30\n",
      "261/261 [==============================] - 102s 391ms/step - loss: 0.2945 - accuracy: 0.9001 - val_loss: 0.3817 - val_accuracy: 0.8828\n",
      "Epoch 11/30\n",
      "261/261 [==============================] - 115s 440ms/step - loss: 0.2624 - accuracy: 0.9117 - val_loss: 0.2924 - val_accuracy: 0.9193\n",
      "Epoch 12/30\n",
      "261/261 [==============================] - 130s 499ms/step - loss: 0.2587 - accuracy: 0.9112 - val_loss: 0.2478 - val_accuracy: 0.9275\n",
      "Epoch 13/30\n",
      "261/261 [==============================] - 119s 456ms/step - loss: 0.2278 - accuracy: 0.9237 - val_loss: 0.2470 - val_accuracy: 0.9299\n",
      "Epoch 14/30\n",
      "261/261 [==============================] - 133s 511ms/step - loss: 0.2081 - accuracy: 0.9300 - val_loss: 0.2432 - val_accuracy: 0.9289\n",
      "Epoch 15/30\n",
      "261/261 [==============================] - 139s 532ms/step - loss: 0.1978 - accuracy: 0.9307 - val_loss: 0.2042 - val_accuracy: 0.9452\n",
      "Epoch 16/30\n",
      "261/261 [==============================] - 127s 488ms/step - loss: 0.1755 - accuracy: 0.9395 - val_loss: 0.2979 - val_accuracy: 0.9145\n",
      "Epoch 17/30\n",
      "261/261 [==============================] - 127s 485ms/step - loss: 0.1999 - accuracy: 0.9350 - val_loss: 0.1913 - val_accuracy: 0.9424\n",
      "Epoch 18/30\n",
      "261/261 [==============================] - 126s 481ms/step - loss: 0.1676 - accuracy: 0.9437 - val_loss: 0.2577 - val_accuracy: 0.9251\n",
      "Epoch 19/30\n",
      "261/261 [==============================] - 129s 495ms/step - loss: 0.1662 - accuracy: 0.9408 - val_loss: 0.3551 - val_accuracy: 0.9059\n",
      "Epoch 20/30\n",
      "261/261 [==============================] - 132s 506ms/step - loss: 0.1571 - accuracy: 0.9452 - val_loss: 0.3169 - val_accuracy: 0.9169\n",
      "Epoch 21/30\n",
      "261/261 [==============================] - 132s 505ms/step - loss: 0.1281 - accuracy: 0.9592 - val_loss: 0.2559 - val_accuracy: 0.9390\n",
      "Epoch 22/30\n",
      "261/261 [==============================] - 128s 489ms/step - loss: 0.1315 - accuracy: 0.9557 - val_loss: 0.2775 - val_accuracy: 0.9313\n",
      "Epoch 23/30\n",
      "261/261 [==============================] - 131s 501ms/step - loss: 0.1444 - accuracy: 0.9499 - val_loss: 0.2997 - val_accuracy: 0.9222\n",
      "Epoch 24/30\n",
      "261/261 [==============================] - 136s 520ms/step - loss: 0.1283 - accuracy: 0.9581 - val_loss: 0.2126 - val_accuracy: 0.9539\n",
      "Epoch 25/30\n",
      "261/261 [==============================] - 133s 510ms/step - loss: 0.1213 - accuracy: 0.9589 - val_loss: 0.2488 - val_accuracy: 0.9371\n",
      "Epoch 26/30\n",
      "261/261 [==============================] - 128s 491ms/step - loss: 0.1206 - accuracy: 0.9588 - val_loss: 0.3209 - val_accuracy: 0.9155\n",
      "Epoch 27/30\n",
      "261/261 [==============================] - 103s 395ms/step - loss: 0.1358 - accuracy: 0.9524 - val_loss: 0.2974 - val_accuracy: 0.9289\n"
     ]
    }
   ],
   "source": [
    "# 1. Create the datagen generator\n",
    "datagen = ImageDataGenerator(\n",
    "    rotation_range=5,\n",
    "    width_shift_range=0.05,\n",
    "    height_shift_range=0.05,\n",
    "    horizontal_flip=True,\n",
    ")\n",
    "\n",
    "# 2. Fit the model using the generator\n",
    "history = model.fit(\n",
    "    datagen.flow(X_train, y_train, batch_size=BATCH_SIZE),\n",
    "    validation_data=(X_test, y_test),\n",
    "    epochs=EPOCHS,\n",
    "    callbacks=[EarlyStopping(patience=10, restore_best_weights=True)]\n",
    ")"
   ]
  },
  {
   "cell_type": "code",
   "execution_count": 19,
   "id": "533597d2",
   "metadata": {},
   "outputs": [
    {
     "data": {
      "image/png": "[encoded data removed]",
      "text/plain": [
       "<Figure size 640x480 with 1 Axes>"
      ]
     },
     "metadata": {},
     "output_type": "display_data"
    }
   ],
   "source": [
    "plt.plot(history.history['accuracy'], label='Train')\n",
    "plt.plot(history.history['val_accuracy'], label='Validation')\n",
    "plt.title('Model Accuracy')\n",
    "plt.xlabel('Epochs')\n",
    "plt.ylabel('Accuracy')\n",
    "plt.legend()\n",
    "plt.grid(True)\n",
    "plt.savefig(\"epoch-accuracy.svg\", bbox_inches=\"tight\")\n",
    "plt.show()"
   ]
  },
  {
   "cell_type": "code",
   "execution_count": 14,
   "id": "8de569ff",
   "metadata": {},
   "outputs": [
    {
     "name": "stdout",
     "output_type": "stream",
     "text": [
      "Saved predictions to task2_predictions.csv\n"
     ]
    }
   ],
   "source": [
    "IMAGE_DIR = \"Dataset/preprocessed_test_images\"\n",
    "\n",
    "def predict_variety(image_id):\n",
    "    try:\n",
    "        red = img_to_array(load_img(f\"{IMAGE_DIR}/{image_id}_red.jpg\", target_size=IMG_SIZE)) / 255.0\n",
    "        green = img_to_array(load_img(f\"{IMAGE_DIR}/{image_id}_green.jpg\", target_size=IMG_SIZE)) / 255.0\n",
    "        blue = img_to_array(load_img(f\"{IMAGE_DIR}/{image_id}_blue.jpg\", target_size=IMG_SIZE)) / 255.0\n",
    "        spectral = img_to_array(\n",
    "            load_img(f\"{IMAGE_DIR}/{image_id}_nipy_spectral.jpg\", target_size=IMG_SIZE, color_mode=\"grayscale\")\n",
    "        ) / 255.0\n",
    "        spectral = np.repeat(spectral, 3, axis=-1)  # Convert grayscale to 3 channels\n",
    "\n",
    "        # Stack into (128, 128, 12)\n",
    "        img_array = np.concatenate([red, green, blue, spectral], axis=-1)\n",
    "        img_array = np.expand_dims(img_array, axis=0)\n",
    "\n",
    "        prediction = model.predict(img_array, verbose=0)\n",
    "        predicted_index = np.argmax(prediction)\n",
    "        predicted_variety = CLASS_NAMES[predicted_index]\n",
    "        return predicted_variety\n",
    "    except Exception as e:\n",
    "        print(f\"Skipping {image_id}: {e}\")\n",
    "        return None\n",
    "\n",
    "# Collect predictions\n",
    "all_files = os.listdir(IMAGE_DIR)\n",
    "image_ids = sorted(set(f.split(\"_\")[0] for f in all_files if f.endswith(\".jpg\")))\n",
    "\n",
    "results = []\n",
    "for image_id in image_ids:\n",
    "    variety = predict_variety(image_id)\n",
    "    if variety:\n",
    "        results.append({\"image_id\": f\"{image_id}.jpg\", \"variety\": variety})\n",
    "\n",
    "df = pd.DataFrame(results)\n",
    "df.to_csv(\"task2_predictions.csv\", index=False)\n",
    "print(\"Saved predictions to task2_predictions.csv\")"
   ]
  },
  {
   "cell_type": "code",
   "execution_count": 15,
   "id": "221dd8c8",
   "metadata": {},
   "outputs": [
    {
     "name": "stdout",
     "output_type": "stream",
     "text": [
      "66/66 [==============================] - 1s 10ms/step\n",
      "Accuracy on test set: 0.9423631123919308\n"
     ]
    }
   ],
   "source": [
    "y_pred = model.predict(X_test)\n",
    "y_pred_labels = np.argmax(y_pred, axis=1)\n",
    "y_true_labels = np.argmax(y_test, axis=1)\n",
    "\n",
    "acc = accuracy_score(y_true_labels, y_pred_labels)\n",
    "print(\"Accuracy on test set:\", acc)"
   ]
  },
  {
   "cell_type": "code",
   "execution_count": 16,
   "id": "8fbbff12",
   "metadata": {},
   "outputs": [
    {
     "data": {
      "text/plain": [
       "<sklearn.metrics._plot.confusion_matrix.ConfusionMatrixDisplay at 0x1d2ad9757b0>"
      ]
     },
     "execution_count": 16,
     "metadata": {},
     "output_type": "execute_result"
    },
    {
     "data": {
      "image/png": "[encoded data removed]",
      "text/plain": [
       "<Figure size 640x480 with 2 Axes>"
      ]
     },
     "metadata": {},
     "output_type": "display_data"
    }
   ],
   "source": [
    "cm = confusion_matrix(y_true_labels, y_pred_labels)\n",
    "ConfusionMatrixDisplay(cm).plot()"
   ]
  },
  {
   "cell_type": "code",
   "execution_count": 20,
   "id": "1e7a92f2",
   "metadata": {},
   "outputs": [
    {
     "name": "stdout",
     "output_type": "stream",
     "text": [
      "                precision    recall  f1-score   support\n",
      "\n",
      "         ADT45       0.96      0.97      0.96      1399\n",
      "          IR20       1.00      0.96      0.98        23\n",
      "KarnatakaPonni       0.94      0.95      0.95       198\n",
      "      Onthanel       0.91      0.90      0.91        70\n",
      "         Ponni       0.88      0.87      0.87       132\n",
      "         Surya       1.00      0.50      0.67         6\n",
      "         Zonal       0.91      0.89      0.90        80\n",
      "    AndraPonni       0.89      0.88      0.89        75\n",
      "  AtchayaPonni       0.87      0.83      0.85        92\n",
      "            RR       0.71      0.71      0.71         7\n",
      "\n",
      "      accuracy                           0.94      2082\n",
      "     macro avg       0.91      0.85      0.87      2082\n",
      "  weighted avg       0.94      0.94      0.94      2082\n",
      "\n"
     ]
    }
   ],
   "source": [
    "print(classification_report(y_true_labels, y_pred_labels, target_names=CLASS_NAMES))"
   ]
  },
  {
   "cell_type": "code",
   "execution_count": 21,
   "id": "bcd65bc2",
   "metadata": {},
   "outputs": [],
   "source": [
    "model.save(\"task2_4colors.keras\")"
   ]
  }
 ],
 "metadata": {
  "kernelspec": {
   "display_name": "tf-gpu",
   "language": "python",
   "name": "python3"
  },
  "language_info": {
   "codemirror_mode": {
    "name": "ipython",
    "version": 3
   },
   "file_extension": ".py",
   "mimetype": "text/x-python",
   "name": "python",
   "nbconvert_exporter": "python",
   "pygments_lexer": "ipython3",
   "version": "3.10.17"
  }
 },
 "nbformat": 4,
 "nbformat_minor": 5
}
