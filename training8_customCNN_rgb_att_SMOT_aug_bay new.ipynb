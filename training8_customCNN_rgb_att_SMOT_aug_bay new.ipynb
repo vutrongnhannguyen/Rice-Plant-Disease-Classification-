{
 "cells": [
  {
   "cell_type": "code",
   "execution_count": 13,
   "id": "7d2a5194",
   "metadata": {},
   "outputs": [],
   "source": [
    "import tensorflow as tf\n",
    "from tensorflow.keras import mixed_precision\n",
    "from tensorflow.keras.utils import Sequence\n",
    "from tensorflow.keras import backend as K\n",
    "from tensorflow.keras.optimizers import AdamW\n",
    "import os\n",
    "import cv2\n",
    "import random\n",
    "import optuna\n",
    "import pickle\n",
    "import numpy as np\n",
    "import pandas as pd\n",
    "import seaborn as sns\n",
    "import albumentations as A\n",
    "import matplotlib.pyplot as plt\n",
    "from sklearn.preprocessing import LabelEncoder\n",
    "from sklearn.model_selection import train_test_split\n",
    "from sklearn.metrics import confusion_matrix, ConfusionMatrixDisplay, classification_report\n",
    "from optuna.visualization import plot_optimization_history, plot_param_importances\n",
    "from optuna.integration import TFKerasPruningCallback\n",
    "from tensorflow.keras.layers import (Conv2D, MaxPooling2D, Dense, Dropout, \n",
    "                                   BatchNormalization, Input, GlobalAveragePooling2D, \n",
    "                                   Concatenate, Multiply)\n",
    "\n",
    "# === Initial Configuration ===\n",
    "config = {\n",
    "    \"epochs\": 1,\n",
    "    \"is_config_batch_size_param\": True,\n",
    "    \"batch_size\": 200,\n",
    "    \"initial_lr\": 0.001,\n",
    "    \"gpu_memory_limit\": 45,\n",
    "    \"target_size\": (480, 640), \n",
    "    \"input_shape\": (640, 480, 3),\n",
    "    \"data_path\": \"Dataset/merged_SMOT_train\",\n",
    "    \"csv_path\": \"processed_data/cleaned_metadata_short.csv\",\n",
    "    \"train_set_csv\": \"Model/training8_customCNN_rgb_att_SMOT_aug_bay_1/training8_customCNN_rgb_att_SMOT_aug_bay_1_train_set.csv\",\n",
    "    \"val_set_csv\": \"Model/training8_customCNN_rgb_att_SMOT_aug_bay_1/training8_customCNN_rgb_att_SMOT_aug_bay_1_validation_set.csv\",\n",
    "    \"history_csv\": \"Model/training8_customCNN_rgb_att_SMOT_aug_bay_1/training8_customCNN_rgb_att_SMOT_aug_bay_1_history.csv\",\n",
    "    \"best_model\": \"Model/training8_customCNN_rgb_att_SMOT_aug_bay_1/training8_customCNN_rgb_att_SMOT_aug_bay_1_best_model.keras\",\n",
    "    \"label_encoder_path\": \"Model/training8_customCNN_rgb_att_SMOT_aug_bay_1/training8_customCNN_rgb_att_SMOT_aug_bay_1_label_encoder.npy\",\n",
    "    \"color_channel\": \"\",\n",
    "    \"save_dir\": \"Model/training8_customCNN_rgb_att_SMOT_aug_bay_1\",\n",
    "}"
   ]
  },
  {
   "cell_type": "code",
   "execution_count": 14,
   "id": "df4b4ab7",
   "metadata": {},
   "outputs": [],
   "source": [
    "#*** Model Save is disanbled for testing purposes ***\n",
    "random.seed(42)\n",
    "np.random.seed(42)\n",
    "tf.random.set_seed(42)\n",
    "\n",
    "os.environ['TF_XLA_FLAGS'] = '--tf_xla_enable_xla_devices=false'\n",
    "os.environ['CUDA_VISIBLE_DEVICES'] = '0'  "
   ]
  },
  {
   "cell_type": "code",
   "execution_count": 15,
   "id": "a8d9d202",
   "metadata": {},
   "outputs": [],
   "source": [
    "# === GPU Setup ===\n",
    "gpus = tf.config.experimental.list_physical_devices('GPU')\n",
    "if gpus:\n",
    "    try:\n",
    "        policy = mixed_precision.Policy('float32')\n",
    "        mixed_precision.set_global_policy(policy)\n",
    "        \n",
    "        for gpu in gpus:\n",
    "            tf.config.experimental.set_memory_growth(gpu, True)\n",
    "        tf.config.optimizer.set_jit(True)\n",
    "        tf.config.threading.set_intra_op_parallelism_threads(8)\n",
    "        tf.config.threading.set_inter_op_parallelism_threads(4)\n",
    "    except RuntimeError as e:\n",
    "        print(e)\n",
    "\n",
    "# === Memory Management ===\n",
    "def calculate_max_batch_size(model, input_shape, gpu_mem=24, default_batch=32, is_use_config_batch_size=config[\"is_config_batch_size_param\"]):\n",
    "    \"\"\"Improved batch size calculator with error handling\"\"\"\n",
    "    if is_use_config_batch_size:\n",
    "        return default_batch\n",
    "    try:\n",
    "        params = model.count_params()\n",
    "        \n",
    "        last_dense = None\n",
    "        for layer in reversed(model.layers):\n",
    "            if isinstance(layer, tf.keras.layers.Dense):\n",
    "                last_dense = layer\n",
    "                if layer.name == 'features':  \n",
    "                    break\n",
    "        \n",
    "        if last_dense is None:\n",
    "            raise ValueError(\"No Dense layer found in model!\")\n",
    "        \n",
    "        # Memory per sample = weights + activations (in GB)\n",
    "        per_sample = (\n",
    "            (params * 4) +                 \n",
    "            (np.prod(input_shape) * last_dense.units * 4)  \n",
    "        ) / (1024 ** 3)\n",
    "        \n",
    "        # Max batch size with 3GB safety margin\n",
    "        max_batch = int((gpu_mem - 3) / per_sample)\n",
    "        return min(256, max_batch)  \n",
    "    \n",
    "    except Exception as e:\n",
    "        print(f\"Warning: Batch size estimation failed, using default={default_batch}. Error: {e}\")\n",
    "        return default_batch\n",
    "\n",
    "def cleanup_gpu_memory():\n",
    "    \"\"\"Force clear GPU memory\"\"\"\n",
    "    K.clear_session()\n",
    "    tf.compat.v1.reset_default_graph()\n",
    "    if tf.config.list_physical_devices('GPU'):\n",
    "        try:\n",
    "            for gpu in tf.config.list_physical_devices('GPU'):\n",
    "                tf.config.experimental.set_memory_growth(gpu, True)\n",
    "        except RuntimeError:\n",
    "            pass"
   ]
  },
  {
   "cell_type": "code",
   "execution_count": 16,
   "id": "78a8a5db",
   "metadata": {},
   "outputs": [],
   "source": [
    "# === Data Pipeline ===\n",
    "def load_and_preprocess_data(random_state=42, save_splits=True):\n",
    "    \"\"\"Load and split data with fixed random state for reproducibility\"\"\"\n",
    "    df = pd.read_csv(config[\"csv_path\"])\n",
    "    \n",
    "    le = LabelEncoder()\n",
    "    df['label_encoded'] = le.fit_transform(df['label'])\n",
    "    print(f\"Label classes: {le.classes_}\")\n",
    "    \n",
    "    with open(config['label_encoder_path'], 'wb') as f:\n",
    "        np.save(f, le.classes_)\n",
    "    \n",
    "    train_df, val_df = train_test_split(\n",
    "        df, \n",
    "        test_size=0.2, \n",
    "        stratify=df['label'],\n",
    "        random_state=random_state,\n",
    "    )\n",
    "    \n",
    "    if save_splits:\n",
    "        train_df.to_csv(config['train_set_csv'], index=False)\n",
    "        val_df.to_csv(config['val_set_csv'], index=False)\n",
    "    \n",
    "    return train_df, val_df, le\n"
   ]
  },
  {
   "cell_type": "code",
   "execution_count": 17,
   "id": "92577bd1",
   "metadata": {},
   "outputs": [],
   "source": [
    "class RiceDataGenerator(Sequence):\n",
    "    def __init__(self, df, base_path, batch_size=32, target_size=(480, 640), shuffle=False, debug=False, config=None, **kwargs):\n",
    "        super().__init__(**kwargs)\n",
    "        self.df = df.reset_index(drop=True)\n",
    "        self.base_path = base_path\n",
    "        self.batch_size = batch_size\n",
    "        self.target_size = target_size  \n",
    "        self.shuffle = shuffle\n",
    "        self.debug = debug\n",
    "        self.indices = np.arange(len(df))\n",
    "        self.config = config if config else {}\n",
    "        \n",
    "        self.aug = A.Compose(config[\"augmentation\"])\n",
    "        \n",
    "        if shuffle:\n",
    "            np.random.shuffle(self.indices)\n",
    "            \n",
    "        if self.debug:\n",
    "            self.visualize_samples()    \n",
    "            \n",
    "\n",
    "    def visualize_samples(self):        \n",
    "        try:\n",
    "            row = self.df.iloc[0]\n",
    "            img = self._load_image(row['image_id'], row['label'])\n",
    "            augmented = self.aug(image=img)\n",
    "            \n",
    "            plt.figure(figsize=(12, 6))\n",
    "            \n",
    "            # original\n",
    "            plt.subplot(1, 2, 1)\n",
    "            plt.imshow(img)\n",
    "            plt.title(f\"Original\\nShape: {img.shape}\")\n",
    "            \n",
    "            # augmented\n",
    "            plt.subplot(1, 2, 2)\n",
    "            plt.imshow(augmented['image'])\n",
    "            plt.title(f\"Augmented\\nShape: {augmented['image'].shape}\")\n",
    "            \n",
    "            plt.tight_layout()\n",
    "            plt.show()\n",
    "            \n",
    "        except Exception as e:\n",
    "            print(f\"Visualization failed for {row['image_id']}: {str(e)}\")\n",
    "    \n",
    "    def __len__(self):\n",
    "        return int(np.ceil(len(self.df) / self.batch_size))\n",
    "    \n",
    "    def _load_image(self, image_id, label):\n",
    "        img_path = os.path.join(\n",
    "            self.base_path,\n",
    "            label,\n",
    "            f\"{os.path.splitext(image_id)[0]}.jpg\"\n",
    "        )\n",
    "        img = cv2.imread(img_path)\n",
    "        if img is None:\n",
    "            raise FileNotFoundError(f\"Image not found at {img_path}\")\n",
    "        return img\n",
    "    \n",
    "    def __getitem__(self, idx):\n",
    "        batch_indices = self.indices[idx*self.batch_size:(idx+1)*self.batch_size]\n",
    "        batch_df = self.df.iloc[batch_indices]\n",
    "        \n",
    "        X = np.zeros((len(batch_df), self.target_size[1], self.target_size[0], 3), dtype=np.float32) #(batch, height, width, channels)\n",
    "        y = np.zeros((len(batch_df),), dtype=np.int32)\n",
    "        \n",
    "        for i, (_, row) in enumerate(batch_df.iterrows()):\n",
    "            try:\n",
    "                img = self._load_image(row['image_id'], row['label'])\n",
    "                augmented = self.aug(image=img)\n",
    "                X[i] = augmented['image'] / 255.0\n",
    "                y[i] = row['label_encoded']\n",
    "            except Exception as e:\n",
    "                print(f\"Error loading {row['image_id']}: {str(e)}\")\n",
    "                X[i] = np.zeros((self.target_size[1], self.target_size[0], 3), dtype=np.float32) #(batch, height, width, channels)\n",
    "                y[i] = -1\n",
    "                \n",
    "        valid = y != -1\n",
    "        return X[valid], y[valid]\n"
   ]
  },
  {
   "cell_type": "code",
   "execution_count": 18,
   "id": "9dacc4e1",
   "metadata": {},
   "outputs": [],
   "source": [
    "# === Model Architecture ===\n",
    "def se_block(input_tensor, ratio=16):\n",
    "    channels = input_tensor.shape[-1]\n",
    "    se = GlobalAveragePooling2D()(input_tensor)\n",
    "    se = Dense(channels // ratio, activation=\"relu\")(se)\n",
    "    se = Dense(channels, activation=\"sigmoid\")(se)\n",
    "    return Multiply()([input_tensor, se])\n",
    "\n",
    "def create_customCNN(input_shape, num_classes, conv_filters=96):    \n",
    "    inputs = Input(shape=input_shape, dtype=tf.float32) \n",
    "     \n",
    "    # Initial feature extraction\n",
    "    x = Conv2D(conv_filters, (7,7), strides=2, activation='relu', padding='same')(inputs)\n",
    "    x = BatchNormalization()(x)\n",
    "    x = MaxPooling2D((3,3), strides=2)(x)\n",
    "    \n",
    "    x = se_block(x)\n",
    "\n",
    "    # Intermediate layers\n",
    "    x = Conv2D(256, (5,5), activation='relu', padding='same')(x)\n",
    "    x = BatchNormalization()(x)\n",
    "    x = MaxPooling2D((3,3), strides=2)(x)\n",
    "    \n",
    "    # Parallel paths\n",
    "    branch1 = Conv2D(384, (3,3), activation='relu', padding='same')(x)\n",
    "    branch2 = Conv2D(384, (3,3), dilation_rate=2, activation='relu', padding='same')(x)\n",
    "    x = Concatenate()([branch1, branch2])\n",
    "        \n",
    "    # Final classification head\n",
    "    x = GlobalAveragePooling2D()(x)\n",
    "    x = Dense(512, activation='relu', name='features')(x)\n",
    "    x = Dropout(0.5)(x)\n",
    "    outputs = Dense(num_classes, activation='softmax', dtype=tf.float32)(x)\n",
    "    \n",
    "    return tf.keras.Model(inputs=inputs, outputs=outputs)"
   ]
  },
  {
   "cell_type": "code",
   "execution_count": 19,
   "id": "dcbfeea7",
   "metadata": {},
   "outputs": [],
   "source": [
    "# === Optimization ===\n",
    "def train_for_optimization(config, trial):\n",
    "    cleanup_gpu_memory()\n",
    "    train_df, val_df, le = load_and_preprocess_data()\n",
    "    \n",
    "    model = create_customCNN(\n",
    "        config[\"input_shape\"], \n",
    "        len(le.classes_),\n",
    "        conv_filters=config.get(\"conv_filters\", 96)\n",
    "    )\n",
    "    \n",
    "    train_gen = RiceDataGenerator(\n",
    "        train_df, config[\"data_path\"], \n",
    "        batch_size=config[\"batch_size\"],\n",
    "        target_size=config[\"target_size\"],\n",
    "        config=config\n",
    "    )\n",
    "    \n",
    "    val_gen = RiceDataGenerator(\n",
    "        val_df, config[\"data_path\"],\n",
    "        batch_size=config[\"batch_size\"],\n",
    "        target_size=config[\"target_size\"],\n",
    "        config=config\n",
    "    )\n",
    "    \n",
    "    model.compile(\n",
    "        optimizer=AdamW(learning_rate=config[\"initial_lr\"]),\n",
    "        loss='sparse_categorical_crossentropy',\n",
    "        metrics=['accuracy']\n",
    "    )\n",
    "    \n",
    "    history = model.fit(\n",
    "        train_gen,\n",
    "        validation_data=val_gen,\n",
    "        epochs=10,  \n",
    "        callbacks=[\n",
    "            TFKerasPruningCallback(trial, \"val_accuracy\"),\n",
    "            tf.keras.callbacks.EarlyStopping(patience=3, restore_best_weights=True)\n",
    "        ],\n",
    "        verbose=0\n",
    "    )\n",
    "    \n",
    "    return max(history.history['val_accuracy'])\n"
   ]
  },
  {
   "cell_type": "code",
   "execution_count": 20,
   "id": "f769214b",
   "metadata": {},
   "outputs": [],
   "source": [
    "# === Optimized Objective Function ===\n",
    "def objective(trial, config):\n",
    "    params = {\n",
    "        \"lr\": trial.suggest_float(\"lr\", 1e-5, 1e-3, log=True),\n",
    "        \"batch_size\": trial.suggest_categorical(\"batch_size\", [32, 64]),\n",
    "        \"dropout_rate\": trial.suggest_float(\"dropout_rate\", 0.3, 0.7),\n",
    "        \"conv_filters\": trial.suggest_categorical(\"conv_filters\", [64, 96, 128]),\n",
    "        \"epochs\": 10\n",
    "    }\n",
    "    \n",
    "    current_config = config.copy()\n",
    "    current_config.update(params)\n",
    "    current_config[\"augmentation\"] = [\n",
    "        A.Resize(width=255, height=255),\n",
    "        A.HorizontalFlip(p=0.5),\n",
    "        A.RandomBrightnessContrast(p=0.3)\n",
    "    ]\n",
    "    \n",
    "    return train_for_optimization(current_config, trial)\n"
   ]
  },
  {
   "cell_type": "code",
   "execution_count": 21,
   "id": "2a2fe70e",
   "metadata": {},
   "outputs": [],
   "source": [
    "def optimize_hyperparameters(config, n_trials=30):\n",
    "    study = optuna.create_study(\n",
    "        direction=\"maximize\",\n",
    "        pruner=optuna.pruners.MedianPruner(n_startup_trials=5, n_warmup_steps=5)\n",
    "    )\n",
    "    \n",
    "    study.optimize(lambda trial: objective(trial, config), n_trials=n_trials)\n",
    "    \n",
    "    # Visualization\n",
    "    fig = plot_optimization_history(study)\n",
    "    fig.show()\n",
    "    fig = plot_param_importances(study)\n",
    "    fig.show()\n",
    "    \n",
    "    return study.best_params\n"
   ]
  },
  {
   "cell_type": "code",
   "execution_count": 22,
   "id": "f8629ffe",
   "metadata": {},
   "outputs": [],
   "source": [
    "# === Final Training Function ===\n",
    "def train_final_model(config):\n",
    "    cleanup_gpu_memory()\n",
    "    train_df, val_df, le = load_and_preprocess_data()\n",
    "    \n",
    "    model = create_customCNN(\n",
    "        config[\"input_shape\"],\n",
    "        len(le.classes_),\n",
    "        conv_filters=config.get(\"conv_filters\", 96)\n",
    "    )\n",
    "    \n",
    "    train_gen = RiceDataGenerator(\n",
    "        train_df, config[\"data_path\"],\n",
    "        batch_size=config[\"batch_size\"],\n",
    "        target_size=config[\"target_size\"],\n",
    "        config=config\n",
    "    )\n",
    "    \n",
    "    val_gen = RiceDataGenerator(\n",
    "        val_df, config[\"data_path\"],\n",
    "        batch_size=config[\"batch_size\"],\n",
    "        target_size=config[\"target_size\"],\n",
    "        config=config\n",
    "    )\n",
    "    \n",
    "    model.compile(\n",
    "        optimizer=AdamW(learning_rate=config[\"initial_lr\"]),\n",
    "        loss='sparse_categorical_crossentropy',\n",
    "        metrics=['accuracy']\n",
    "    )\n",
    "    \n",
    "    history = model.fit(\n",
    "        train_gen,\n",
    "        validation_data=val_gen,\n",
    "        epochs=50,\n",
    "        callbacks=[\n",
    "            tf.keras.callbacks.EarlyStopping(patience=5, restore_best_weights=True),\n",
    "            tf.keras.callbacks.ModelCheckpoint(\n",
    "                config[\"best_model\"],\n",
    "                save_best_only=True,\n",
    "                monitor='val_accuracy'\n",
    "            )\n",
    "        ]\n",
    "    )\n",
    "    \n",
    "    return model, history\n"
   ]
  },
  {
   "cell_type": "code",
   "execution_count": 23,
   "id": "56c5e173",
   "metadata": {},
   "outputs": [],
   "source": [
    "def plot_accuracy_loss(history):\n",
    "    \"\"\"Plot accuracy and loss curves\"\"\"\n",
    "    plt.figure(figsize=(12, 5))\n",
    "    \n",
    "    # Accuracy\n",
    "    plt.subplot(1, 2, 1)\n",
    "    plt.plot(history.history['accuracy'], label='Train Accuracy')\n",
    "    plt.plot(history.history['val_accuracy'], label='Validation Accuracy')\n",
    "    plt.title('Model Accuracy')\n",
    "    plt.xlabel('Epochs')\n",
    "    plt.ylabel('Accuracy')\n",
    "    plt.legend()\n",
    "    \n",
    "    # Loss\n",
    "    plt.subplot(1, 2, 2)\n",
    "    plt.plot(history.history['loss'], label='Train Loss')\n",
    "    plt.plot(history.history['val_loss'], label='Validation Loss')\n",
    "    plt.title('Model Loss')\n",
    "    plt.xlabel('Epochs')\n",
    "    plt.ylabel('Loss')\n",
    "    plt.legend()\n",
    "    \n",
    "    plt.tight_layout()\n",
    "    plt.show()"
   ]
  },
  {
   "cell_type": "code",
   "execution_count": 24,
   "id": "706a591d",
   "metadata": {},
   "outputs": [
    {
     "name": "stderr",
     "output_type": "stream",
     "text": [
      "[I 2025-05-14 19:16:14,615] A new study created in memory with name: no-name-eff31bf0-e944-4796-8a3f-53d9edb0844f\n"
     ]
    },
    {
     "name": "stdout",
     "output_type": "stream",
     "text": [
      "Starting hyperparameter optimization...\n",
      "Label classes: ['bacterial_leaf_blight' 'bacterial_panicle_blight' 'blast' 'brown_spot'\n",
      " 'dead_heart' 'downy_mildew']\n"
     ]
    },
    {
     "name": "stderr",
     "output_type": "stream",
     "text": [
      "[I 2025-05-14 19:16:26,675] Trial 0 finished with value: 0.25 and parameters: {'lr': 0.0006240728588916674, 'batch_size': 64, 'dropout_rate': 0.3471266611385923, 'conv_filters': 128}. Best is trial 0 with value: 0.25.\n"
     ]
    },
    {
     "name": "stdout",
     "output_type": "stream",
     "text": [
      "Label classes: ['bacterial_leaf_blight' 'bacterial_panicle_blight' 'blast' 'brown_spot'\n",
      " 'dead_heart' 'downy_mildew']\n"
     ]
    },
    {
     "name": "stderr",
     "output_type": "stream",
     "text": [
      "[I 2025-05-14 19:16:34,033] Trial 1 finished with value: 0.25 and parameters: {'lr': 0.0002875485021786318, 'batch_size': 64, 'dropout_rate': 0.32002483897026607, 'conv_filters': 64}. Best is trial 0 with value: 0.25.\n"
     ]
    },
    {
     "name": "stdout",
     "output_type": "stream",
     "text": [
      "Label classes: ['bacterial_leaf_blight' 'bacterial_panicle_blight' 'blast' 'brown_spot'\n",
      " 'dead_heart' 'downy_mildew']\n",
      "WARNING:tensorflow:5 out of the last 19 calls to <function TensorFlowTrainer._make_function.<locals>.multi_step_on_iterator at 0x7feb05630720> triggered tf.function retracing. Tracing is expensive and the excessive number of tracings could be due to (1) creating @tf.function repeatedly in a loop, (2) passing tensors with different shapes, (3) passing Python objects instead of tensors. For (1), please define your @tf.function outside of the loop. For (2), @tf.function has reduce_retracing=True option that can avoid unnecessary retracing. For (3), please refer to https://www.tensorflow.org/guide/function#controlling_retracing and https://www.tensorflow.org/api_docs/python/tf/function for  more details.\n"
     ]
    },
    {
     "name": "stderr",
     "output_type": "stream",
     "text": [
      "[I 2025-05-14 19:16:45,448] Trial 2 finished with value: 0.375 and parameters: {'lr': 4.737403287595405e-05, 'batch_size': 32, 'dropout_rate': 0.40407125986425874, 'conv_filters': 64}. Best is trial 2 with value: 0.375.\n"
     ]
    },
    {
     "name": "stdout",
     "output_type": "stream",
     "text": [
      "Label classes: ['bacterial_leaf_blight' 'bacterial_panicle_blight' 'blast' 'brown_spot'\n",
      " 'dead_heart' 'downy_mildew']\n"
     ]
    },
    {
     "name": "stderr",
     "output_type": "stream",
     "text": [
      "[I 2025-05-14 19:16:56,215] Trial 3 finished with value: 0.25 and parameters: {'lr': 2.7725147493676746e-05, 'batch_size': 32, 'dropout_rate': 0.3619042886996722, 'conv_filters': 96}. Best is trial 2 with value: 0.375.\n"
     ]
    },
    {
     "name": "stdout",
     "output_type": "stream",
     "text": [
      "Label classes: ['bacterial_leaf_blight' 'bacterial_panicle_blight' 'blast' 'brown_spot'\n",
      " 'dead_heart' 'downy_mildew']\n"
     ]
    },
    {
     "name": "stderr",
     "output_type": "stream",
     "text": [
      "[I 2025-05-14 19:17:11,581] Trial 4 finished with value: 0.375 and parameters: {'lr': 1.911013973722096e-05, 'batch_size': 32, 'dropout_rate': 0.6953422886239925, 'conv_filters': 128}. Best is trial 2 with value: 0.375.\n"
     ]
    },
    {
     "data": {
      "application/vnd.plotly.v1+json": {
       "config": {
        "plotlyServerURL": "https://plot.ly"
       },
       "data": [
        {
         "mode": "markers",
         "name": "Objective Value",
         "type": "scatter",
         "x": [
          0,
          1,
          2,
          3,
          4
         ],
         "y": [
          0.25,
          0.25,
          0.375,
          0.25,
          0.375
         ]
        },
        {
         "mode": "lines",
         "name": "Best Value",
         "type": "scatter",
         "x": [
          0,
          1,
          2,
          3,
          4
         ],
         "y": [
          0.25,
          0.25,
          0.375,
          0.375,
          0.375
         ]
        },
        {
         "marker": {
          "color": "#cccccc"
         },
         "mode": "markers",
         "name": "Infeasible Trial",
         "showlegend": false,
         "type": "scatter",
         "x": [],
         "y": []
        }
       ],
       "layout": {
        "template": {
         "data": {
          "bar": [
           {
            "error_x": {
             "color": "#2a3f5f"
            },
            "error_y": {
             "color": "#2a3f5f"
            },
            "marker": {
             "line": {
              "color": "#E5ECF6",
              "width": 0.5
             },
             "pattern": {
              "fillmode": "overlay",
              "size": 10,
              "solidity": 0.2
             }
            },
            "type": "bar"
           }
          ],
          "barpolar": [
           {
            "marker": {
             "line": {
              "color": "#E5ECF6",
              "width": 0.5
             },
             "pattern": {
              "fillmode": "overlay",
              "size": 10,
              "solidity": 0.2
             }
            },
            "type": "barpolar"
           }
          ],
          "carpet": [
           {
            "aaxis": {
             "endlinecolor": "#2a3f5f",
             "gridcolor": "white",
             "linecolor": "white",
             "minorgridcolor": "white",
             "startlinecolor": "#2a3f5f"
            },
            "baxis": {
             "endlinecolor": "#2a3f5f",
             "gridcolor": "white",
             "linecolor": "white",
             "minorgridcolor": "white",
             "startlinecolor": "#2a3f5f"
            },
            "type": "carpet"
           }
          ],
          "choropleth": [
           {
            "colorbar": {
             "outlinewidth": 0,
             "ticks": ""
            },
            "type": "choropleth"
           }
          ],
          "contour": [
           {
            "colorbar": {
             "outlinewidth": 0,
             "ticks": ""
            },
            "colorscale": [
             [
              0,
              "#0d0887"
             ],
             [
              0.1111111111111111,
              "#46039f"
             ],
             [
              0.2222222222222222,
              "#7201a8"
             ],
             [
              0.3333333333333333,
              "#9c179e"
             ],
             [
              0.4444444444444444,
              "#bd3786"
             ],
             [
              0.5555555555555556,
              "#d8576b"
             ],
             [
              0.6666666666666666,
              "#ed7953"
             ],
             [
              0.7777777777777778,
              "#fb9f3a"
             ],
             [
              0.8888888888888888,
              "#fdca26"
             ],
             [
              1,
              "#f0f921"
             ]
            ],
            "type": "contour"
           }
          ],
          "contourcarpet": [
           {
            "colorbar": {
             "outlinewidth": 0,
             "ticks": ""
            },
            "type": "contourcarpet"
           }
          ],
          "heatmap": [
           {
            "colorbar": {
             "outlinewidth": 0,
             "ticks": ""
            },
            "colorscale": [
             [
              0,
              "#0d0887"
             ],
             [
              0.1111111111111111,
              "#46039f"
             ],
             [
              0.2222222222222222,
              "#7201a8"
             ],
             [
              0.3333333333333333,
              "#9c179e"
             ],
             [
              0.4444444444444444,
              "#bd3786"
             ],
             [
              0.5555555555555556,
              "#d8576b"
             ],
             [
              0.6666666666666666,
              "#ed7953"
             ],
             [
              0.7777777777777778,
              "#fb9f3a"
             ],
             [
              0.8888888888888888,
              "#fdca26"
             ],
             [
              1,
              "#f0f921"
             ]
            ],
            "type": "heatmap"
           }
          ],
          "heatmapgl": [
           {
            "colorbar": {
             "outlinewidth": 0,
             "ticks": ""
            },
            "colorscale": [
             [
              0,
              "#0d0887"
             ],
             [
              0.1111111111111111,
              "#46039f"
             ],
             [
              0.2222222222222222,
              "#7201a8"
             ],
             [
              0.3333333333333333,
              "#9c179e"
             ],
             [
              0.4444444444444444,
              "#bd3786"
             ],
             [
              0.5555555555555556,
              "#d8576b"
             ],
             [
              0.6666666666666666,
              "#ed7953"
             ],
             [
              0.7777777777777778,
              "#fb9f3a"
             ],
             [
              0.8888888888888888,
              "#fdca26"
             ],
             [
              1,
              "#f0f921"
             ]
            ],
            "type": "heatmapgl"
           }
          ],
          "histogram": [
           {
            "marker": {
             "pattern": {
              "fillmode": "overlay",
              "size": 10,
              "solidity": 0.2
             }
            },
            "type": "histogram"
           }
          ],
          "histogram2d": [
           {
            "colorbar": {
             "outlinewidth": 0,
             "ticks": ""
            },
            "colorscale": [
             [
              0,
              "#0d0887"
             ],
             [
              0.1111111111111111,
              "#46039f"
             ],
             [
              0.2222222222222222,
              "#7201a8"
             ],
             [
              0.3333333333333333,
              "#9c179e"
             ],
             [
              0.4444444444444444,
              "#bd3786"
             ],
             [
              0.5555555555555556,
              "#d8576b"
             ],
             [
              0.6666666666666666,
              "#ed7953"
             ],
             [
              0.7777777777777778,
              "#fb9f3a"
             ],
             [
              0.8888888888888888,
              "#fdca26"
             ],
             [
              1,
              "#f0f921"
             ]
            ],
            "type": "histogram2d"
           }
          ],
          "histogram2dcontour": [
           {
            "colorbar": {
             "outlinewidth": 0,
             "ticks": ""
            },
            "colorscale": [
             [
              0,
              "#0d0887"
             ],
             [
              0.1111111111111111,
              "#46039f"
             ],
             [
              0.2222222222222222,
              "#7201a8"
             ],
             [
              0.3333333333333333,
              "#9c179e"
             ],
             [
              0.4444444444444444,
              "#bd3786"
             ],
             [
              0.5555555555555556,
              "#d8576b"
             ],
             [
              0.6666666666666666,
              "#ed7953"
             ],
             [
              0.7777777777777778,
              "#fb9f3a"
             ],
             [
              0.8888888888888888,
              "#fdca26"
             ],
             [
              1,
              "#f0f921"
             ]
            ],
            "type": "histogram2dcontour"
           }
          ],
          "mesh3d": [
           {
            "colorbar": {
             "outlinewidth": 0,
             "ticks": ""
            },
            "type": "mesh3d"
           }
          ],
          "parcoords": [
           {
            "line": {
             "colorbar": {
              "outlinewidth": 0,
              "ticks": ""
             }
            },
            "type": "parcoords"
           }
          ],
          "pie": [
           {
            "automargin": true,
            "type": "pie"
           }
          ],
          "scatter": [
           {
            "fillpattern": {
             "fillmode": "overlay",
             "size": 10,
             "solidity": 0.2
            },
            "type": "scatter"
           }
          ],
          "scatter3d": [
           {
            "line": {
             "colorbar": {
              "outlinewidth": 0,
              "ticks": ""
             }
            },
            "marker": {
             "colorbar": {
              "outlinewidth": 0,
              "ticks": ""
             }
            },
            "type": "scatter3d"
           }
          ],
          "scattercarpet": [
           {
            "marker": {
             "colorbar": {
              "outlinewidth": 0,
              "ticks": ""
             }
            },
            "type": "scattercarpet"
           }
          ],
          "scattergeo": [
           {
            "marker": {
             "colorbar": {
              "outlinewidth": 0,
              "ticks": ""
             }
            },
            "type": "scattergeo"
           }
          ],
          "scattergl": [
           {
            "marker": {
             "colorbar": {
              "outlinewidth": 0,
              "ticks": ""
             }
            },
            "type": "scattergl"
           }
          ],
          "scattermapbox": [
           {
            "marker": {
             "colorbar": {
              "outlinewidth": 0,
              "ticks": ""
             }
            },
            "type": "scattermapbox"
           }
          ],
          "scatterpolar": [
           {
            "marker": {
             "colorbar": {
              "outlinewidth": 0,
              "ticks": ""
             }
            },
            "type": "scatterpolar"
           }
          ],
          "scatterpolargl": [
           {
            "marker": {
             "colorbar": {
              "outlinewidth": 0,
              "ticks": ""
             }
            },
            "type": "scatterpolargl"
           }
          ],
          "scatterternary": [
           {
            "marker": {
             "colorbar": {
              "outlinewidth": 0,
              "ticks": ""
             }
            },
            "type": "scatterternary"
           }
          ],
          "surface": [
           {
            "colorbar": {
             "outlinewidth": 0,
             "ticks": ""
            },
            "colorscale": [
             [
              0,
              "#0d0887"
             ],
             [
              0.1111111111111111,
              "#46039f"
             ],
             [
              0.2222222222222222,
              "#7201a8"
             ],
             [
              0.3333333333333333,
              "#9c179e"
             ],
             [
              0.4444444444444444,
              "#bd3786"
             ],
             [
              0.5555555555555556,
              "#d8576b"
             ],
             [
              0.6666666666666666,
              "#ed7953"
             ],
             [
              0.7777777777777778,
              "#fb9f3a"
             ],
             [
              0.8888888888888888,
              "#fdca26"
             ],
             [
              1,
              "#f0f921"
             ]
            ],
            "type": "surface"
           }
          ],
          "table": [
           {
            "cells": {
             "fill": {
              "color": "#EBF0F8"
             },
             "line": {
              "color": "white"
             }
            },
            "header": {
             "fill": {
              "color": "#C8D4E3"
             },
             "line": {
              "color": "white"
             }
            },
            "type": "table"
           }
          ]
         },
         "layout": {
          "annotationdefaults": {
           "arrowcolor": "#2a3f5f",
           "arrowhead": 0,
           "arrowwidth": 1
          },
          "autotypenumbers": "strict",
          "coloraxis": {
           "colorbar": {
            "outlinewidth": 0,
            "ticks": ""
           }
          },
          "colorscale": {
           "diverging": [
            [
             0,
             "#8e0152"
            ],
            [
             0.1,
             "#c51b7d"
            ],
            [
             0.2,
             "#de77ae"
            ],
            [
             0.3,
             "#f1b6da"
            ],
            [
             0.4,
             "#fde0ef"
            ],
            [
             0.5,
             "#f7f7f7"
            ],
            [
             0.6,
             "#e6f5d0"
            ],
            [
             0.7,
             "#b8e186"
            ],
            [
             0.8,
             "#7fbc41"
            ],
            [
             0.9,
             "#4d9221"
            ],
            [
             1,
             "#276419"
            ]
           ],
           "sequential": [
            [
             0,
             "#0d0887"
            ],
            [
             0.1111111111111111,
             "#46039f"
            ],
            [
             0.2222222222222222,
             "#7201a8"
            ],
            [
             0.3333333333333333,
             "#9c179e"
            ],
            [
             0.4444444444444444,
             "#bd3786"
            ],
            [
             0.5555555555555556,
             "#d8576b"
            ],
            [
             0.6666666666666666,
             "#ed7953"
            ],
            [
             0.7777777777777778,
             "#fb9f3a"
            ],
            [
             0.8888888888888888,
             "#fdca26"
            ],
            [
             1,
             "#f0f921"
            ]
           ],
           "sequentialminus": [
            [
             0,
             "#0d0887"
            ],
            [
             0.1111111111111111,
             "#46039f"
            ],
            [
             0.2222222222222222,
             "#7201a8"
            ],
            [
             0.3333333333333333,
             "#9c179e"
            ],
            [
             0.4444444444444444,
             "#bd3786"
            ],
            [
             0.5555555555555556,
             "#d8576b"
            ],
            [
             0.6666666666666666,
             "#ed7953"
            ],
            [
             0.7777777777777778,
             "#fb9f3a"
            ],
            [
             0.8888888888888888,
             "#fdca26"
            ],
            [
             1,
             "#f0f921"
            ]
           ]
          },
          "colorway": [
           "#636efa",
           "#EF553B",
           "#00cc96",
           "#ab63fa",
           "#FFA15A",
           "#19d3f3",
           "#FF6692",
           "#B6E880",
           "#FF97FF",
           "#FECB52"
          ],
          "font": {
           "color": "#2a3f5f"
          },
          "geo": {
           "bgcolor": "white",
           "lakecolor": "white",
           "landcolor": "#E5ECF6",
           "showlakes": true,
           "showland": true,
           "subunitcolor": "white"
          },
          "hoverlabel": {
           "align": "left"
          },
          "hovermode": "closest",
          "mapbox": {
           "style": "light"
          },
          "paper_bgcolor": "white",
          "plot_bgcolor": "#E5ECF6",
          "polar": {
           "angularaxis": {
            "gridcolor": "white",
            "linecolor": "white",
            "ticks": ""
           },
           "bgcolor": "#E5ECF6",
           "radialaxis": {
            "gridcolor": "white",
            "linecolor": "white",
            "ticks": ""
           }
          },
          "scene": {
           "xaxis": {
            "backgroundcolor": "#E5ECF6",
            "gridcolor": "white",
            "gridwidth": 2,
            "linecolor": "white",
            "showbackground": true,
            "ticks": "",
            "zerolinecolor": "white"
           },
           "yaxis": {
            "backgroundcolor": "#E5ECF6",
            "gridcolor": "white",
            "gridwidth": 2,
            "linecolor": "white",
            "showbackground": true,
            "ticks": "",
            "zerolinecolor": "white"
           },
           "zaxis": {
            "backgroundcolor": "#E5ECF6",
            "gridcolor": "white",
            "gridwidth": 2,
            "linecolor": "white",
            "showbackground": true,
            "ticks": "",
            "zerolinecolor": "white"
           }
          },
          "shapedefaults": {
           "line": {
            "color": "#2a3f5f"
           }
          },
          "ternary": {
           "aaxis": {
            "gridcolor": "white",
            "linecolor": "white",
            "ticks": ""
           },
           "baxis": {
            "gridcolor": "white",
            "linecolor": "white",
            "ticks": ""
           },
           "bgcolor": "#E5ECF6",
           "caxis": {
            "gridcolor": "white",
            "linecolor": "white",
            "ticks": ""
           }
          },
          "title": {
           "x": 0.05
          },
          "xaxis": {
           "automargin": true,
           "gridcolor": "white",
           "linecolor": "white",
           "ticks": "",
           "title": {
            "standoff": 15
           },
           "zerolinecolor": "white",
           "zerolinewidth": 2
          },
          "yaxis": {
           "automargin": true,
           "gridcolor": "white",
           "linecolor": "white",
           "ticks": "",
           "title": {
            "standoff": 15
           },
           "zerolinecolor": "white",
           "zerolinewidth": 2
          }
         }
        },
        "title": {
         "text": "Optimization History Plot"
        },
        "xaxis": {
         "title": {
          "text": "Trial"
         }
        },
        "yaxis": {
         "title": {
          "text": "Objective Value"
         }
        }
       }
      }
     },
     "metadata": {},
     "output_type": "display_data"
    },
    {
     "data": {
      "application/vnd.plotly.v1+json": {
       "config": {
        "plotlyServerURL": "https://plot.ly"
       },
       "data": [
        {
         "cliponaxis": false,
         "hovertemplate": [
          "conv_filters (CategoricalDistribution): 0.05084745762711863<extra></extra>",
          "lr (FloatDistribution): 0.11864406779661021<extra></extra>",
          "batch_size (CategoricalDistribution): 0.2542372881355931<extra></extra>",
          "dropout_rate (FloatDistribution): 0.5762711864406781<extra></extra>"
         ],
         "name": "Objective Value",
         "orientation": "h",
         "text": [
          "0.05",
          "0.12",
          "0.25",
          "0.58"
         ],
         "textposition": "outside",
         "type": "bar",
         "x": [
          0.05084745762711863,
          0.11864406779661021,
          0.2542372881355931,
          0.5762711864406781
         ],
         "y": [
          "conv_filters",
          "lr",
          "batch_size",
          "dropout_rate"
         ]
        }
       ],
       "layout": {
        "template": {
         "data": {
          "bar": [
           {
            "error_x": {
             "color": "#2a3f5f"
            },
            "error_y": {
             "color": "#2a3f5f"
            },
            "marker": {
             "line": {
              "color": "#E5ECF6",
              "width": 0.5
             },
             "pattern": {
              "fillmode": "overlay",
              "size": 10,
              "solidity": 0.2
             }
            },
            "type": "bar"
           }
          ],
          "barpolar": [
           {
            "marker": {
             "line": {
              "color": "#E5ECF6",
              "width": 0.5
             },
             "pattern": {
              "fillmode": "overlay",
              "size": 10,
              "solidity": 0.2
             }
            },
            "type": "barpolar"
           }
          ],
          "carpet": [
           {
            "aaxis": {
             "endlinecolor": "#2a3f5f",
             "gridcolor": "white",
             "linecolor": "white",
             "minorgridcolor": "white",
             "startlinecolor": "#2a3f5f"
            },
            "baxis": {
             "endlinecolor": "#2a3f5f",
             "gridcolor": "white",
             "linecolor": "white",
             "minorgridcolor": "white",
             "startlinecolor": "#2a3f5f"
            },
            "type": "carpet"
           }
          ],
          "choropleth": [
           {
            "colorbar": {
             "outlinewidth": 0,
             "ticks": ""
            },
            "type": "choropleth"
           }
          ],
          "contour": [
           {
            "colorbar": {
             "outlinewidth": 0,
             "ticks": ""
            },
            "colorscale": [
             [
              0,
              "#0d0887"
             ],
             [
              0.1111111111111111,
              "#46039f"
             ],
             [
              0.2222222222222222,
              "#7201a8"
             ],
             [
              0.3333333333333333,
              "#9c179e"
             ],
             [
              0.4444444444444444,
              "#bd3786"
             ],
             [
              0.5555555555555556,
              "#d8576b"
             ],
             [
              0.6666666666666666,
              "#ed7953"
             ],
             [
              0.7777777777777778,
              "#fb9f3a"
             ],
             [
              0.8888888888888888,
              "#fdca26"
             ],
             [
              1,
              "#f0f921"
             ]
            ],
            "type": "contour"
           }
          ],
          "contourcarpet": [
           {
            "colorbar": {
             "outlinewidth": 0,
             "ticks": ""
            },
            "type": "contourcarpet"
           }
          ],
          "heatmap": [
           {
            "colorbar": {
             "outlinewidth": 0,
             "ticks": ""
            },
            "colorscale": [
             [
              0,
              "#0d0887"
             ],
             [
              0.1111111111111111,
              "#46039f"
             ],
             [
              0.2222222222222222,
              "#7201a8"
             ],
             [
              0.3333333333333333,
              "#9c179e"
             ],
             [
              0.4444444444444444,
              "#bd3786"
             ],
             [
              0.5555555555555556,
              "#d8576b"
             ],
             [
              0.6666666666666666,
              "#ed7953"
             ],
             [
              0.7777777777777778,
              "#fb9f3a"
             ],
             [
              0.8888888888888888,
              "#fdca26"
             ],
             [
              1,
              "#f0f921"
             ]
            ],
            "type": "heatmap"
           }
          ],
          "heatmapgl": [
           {
            "colorbar": {
             "outlinewidth": 0,
             "ticks": ""
            },
            "colorscale": [
             [
              0,
              "#0d0887"
             ],
             [
              0.1111111111111111,
              "#46039f"
             ],
             [
              0.2222222222222222,
              "#7201a8"
             ],
             [
              0.3333333333333333,
              "#9c179e"
             ],
             [
              0.4444444444444444,
              "#bd3786"
             ],
             [
              0.5555555555555556,
              "#d8576b"
             ],
             [
              0.6666666666666666,
              "#ed7953"
             ],
             [
              0.7777777777777778,
              "#fb9f3a"
             ],
             [
              0.8888888888888888,
              "#fdca26"
             ],
             [
              1,
              "#f0f921"
             ]
            ],
            "type": "heatmapgl"
           }
          ],
          "histogram": [
           {
            "marker": {
             "pattern": {
              "fillmode": "overlay",
              "size": 10,
              "solidity": 0.2
             }
            },
            "type": "histogram"
           }
          ],
          "histogram2d": [
           {
            "colorbar": {
             "outlinewidth": 0,
             "ticks": ""
            },
            "colorscale": [
             [
              0,
              "#0d0887"
             ],
             [
              0.1111111111111111,
              "#46039f"
             ],
             [
              0.2222222222222222,
              "#7201a8"
             ],
             [
              0.3333333333333333,
              "#9c179e"
             ],
             [
              0.4444444444444444,
              "#bd3786"
             ],
             [
              0.5555555555555556,
              "#d8576b"
             ],
             [
              0.6666666666666666,
              "#ed7953"
             ],
             [
              0.7777777777777778,
              "#fb9f3a"
             ],
             [
              0.8888888888888888,
              "#fdca26"
             ],
             [
              1,
              "#f0f921"
             ]
            ],
            "type": "histogram2d"
           }
          ],
          "histogram2dcontour": [
           {
            "colorbar": {
             "outlinewidth": 0,
             "ticks": ""
            },
            "colorscale": [
             [
              0,
              "#0d0887"
             ],
             [
              0.1111111111111111,
              "#46039f"
             ],
             [
              0.2222222222222222,
              "#7201a8"
             ],
             [
              0.3333333333333333,
              "#9c179e"
             ],
             [
              0.4444444444444444,
              "#bd3786"
             ],
             [
              0.5555555555555556,
              "#d8576b"
             ],
             [
              0.6666666666666666,
              "#ed7953"
             ],
             [
              0.7777777777777778,
              "#fb9f3a"
             ],
             [
              0.8888888888888888,
              "#fdca26"
             ],
             [
              1,
              "#f0f921"
             ]
            ],
            "type": "histogram2dcontour"
           }
          ],
          "mesh3d": [
           {
            "colorbar": {
             "outlinewidth": 0,
             "ticks": ""
            },
            "type": "mesh3d"
           }
          ],
          "parcoords": [
           {
            "line": {
             "colorbar": {
              "outlinewidth": 0,
              "ticks": ""
             }
            },
            "type": "parcoords"
           }
          ],
          "pie": [
           {
            "automargin": true,
            "type": "pie"
           }
          ],
          "scatter": [
           {
            "fillpattern": {
             "fillmode": "overlay",
             "size": 10,
             "solidity": 0.2
            },
            "type": "scatter"
           }
          ],
          "scatter3d": [
           {
            "line": {
             "colorbar": {
              "outlinewidth": 0,
              "ticks": ""
             }
            },
            "marker": {
             "colorbar": {
              "outlinewidth": 0,
              "ticks": ""
             }
            },
            "type": "scatter3d"
           }
          ],
          "scattercarpet": [
           {
            "marker": {
             "colorbar": {
              "outlinewidth": 0,
              "ticks": ""
             }
            },
            "type": "scattercarpet"
           }
          ],
          "scattergeo": [
           {
            "marker": {
             "colorbar": {
              "outlinewidth": 0,
              "ticks": ""
             }
            },
            "type": "scattergeo"
           }
          ],
          "scattergl": [
           {
            "marker": {
             "colorbar": {
              "outlinewidth": 0,
              "ticks": ""
             }
            },
            "type": "scattergl"
           }
          ],
          "scattermapbox": [
           {
            "marker": {
             "colorbar": {
              "outlinewidth": 0,
              "ticks": ""
             }
            },
            "type": "scattermapbox"
           }
          ],
          "scatterpolar": [
           {
            "marker": {
             "colorbar": {
              "outlinewidth": 0,
              "ticks": ""
             }
            },
            "type": "scatterpolar"
           }
          ],
          "scatterpolargl": [
           {
            "marker": {
             "colorbar": {
              "outlinewidth": 0,
              "ticks": ""
             }
            },
            "type": "scatterpolargl"
           }
          ],
          "scatterternary": [
           {
            "marker": {
             "colorbar": {
              "outlinewidth": 0,
              "ticks": ""
             }
            },
            "type": "scatterternary"
           }
          ],
          "surface": [
           {
            "colorbar": {
             "outlinewidth": 0,
             "ticks": ""
            },
            "colorscale": [
             [
              0,
              "#0d0887"
             ],
             [
              0.1111111111111111,
              "#46039f"
             ],
             [
              0.2222222222222222,
              "#7201a8"
             ],
             [
              0.3333333333333333,
              "#9c179e"
             ],
             [
              0.4444444444444444,
              "#bd3786"
             ],
             [
              0.5555555555555556,
              "#d8576b"
             ],
             [
              0.6666666666666666,
              "#ed7953"
             ],
             [
              0.7777777777777778,
              "#fb9f3a"
             ],
             [
              0.8888888888888888,
              "#fdca26"
             ],
             [
              1,
              "#f0f921"
             ]
            ],
            "type": "surface"
           }
          ],
          "table": [
           {
            "cells": {
             "fill": {
              "color": "#EBF0F8"
             },
             "line": {
              "color": "white"
             }
            },
            "header": {
             "fill": {
              "color": "#C8D4E3"
             },
             "line": {
              "color": "white"
             }
            },
            "type": "table"
           }
          ]
         },
         "layout": {
          "annotationdefaults": {
           "arrowcolor": "#2a3f5f",
           "arrowhead": 0,
           "arrowwidth": 1
          },
          "autotypenumbers": "strict",
          "coloraxis": {
           "colorbar": {
            "outlinewidth": 0,
            "ticks": ""
           }
          },
          "colorscale": {
           "diverging": [
            [
             0,
             "#8e0152"
            ],
            [
             0.1,
             "#c51b7d"
            ],
            [
             0.2,
             "#de77ae"
            ],
            [
             0.3,
             "#f1b6da"
            ],
            [
             0.4,
             "#fde0ef"
            ],
            [
             0.5,
             "#f7f7f7"
            ],
            [
             0.6,
             "#e6f5d0"
            ],
            [
             0.7,
             "#b8e186"
            ],
            [
             0.8,
             "#7fbc41"
            ],
            [
             0.9,
             "#4d9221"
            ],
            [
             1,
             "#276419"
            ]
           ],
           "sequential": [
            [
             0,
             "#0d0887"
            ],
            [
             0.1111111111111111,
             "#46039f"
            ],
            [
             0.2222222222222222,
             "#7201a8"
            ],
            [
             0.3333333333333333,
             "#9c179e"
            ],
            [
             0.4444444444444444,
             "#bd3786"
            ],
            [
             0.5555555555555556,
             "#d8576b"
            ],
            [
             0.6666666666666666,
             "#ed7953"
            ],
            [
             0.7777777777777778,
             "#fb9f3a"
            ],
            [
             0.8888888888888888,
             "#fdca26"
            ],
            [
             1,
             "#f0f921"
            ]
           ],
           "sequentialminus": [
            [
             0,
             "#0d0887"
            ],
            [
             0.1111111111111111,
             "#46039f"
            ],
            [
             0.2222222222222222,
             "#7201a8"
            ],
            [
             0.3333333333333333,
             "#9c179e"
            ],
            [
             0.4444444444444444,
             "#bd3786"
            ],
            [
             0.5555555555555556,
             "#d8576b"
            ],
            [
             0.6666666666666666,
             "#ed7953"
            ],
            [
             0.7777777777777778,
             "#fb9f3a"
            ],
            [
             0.8888888888888888,
             "#fdca26"
            ],
            [
             1,
             "#f0f921"
            ]
           ]
          },
          "colorway": [
           "#636efa",
           "#EF553B",
           "#00cc96",
           "#ab63fa",
           "#FFA15A",
           "#19d3f3",
           "#FF6692",
           "#B6E880",
           "#FF97FF",
           "#FECB52"
          ],
          "font": {
           "color": "#2a3f5f"
          },
          "geo": {
           "bgcolor": "white",
           "lakecolor": "white",
           "landcolor": "#E5ECF6",
           "showlakes": true,
           "showland": true,
           "subunitcolor": "white"
          },
          "hoverlabel": {
           "align": "left"
          },
          "hovermode": "closest",
          "mapbox": {
           "style": "light"
          },
          "paper_bgcolor": "white",
          "plot_bgcolor": "#E5ECF6",
          "polar": {
           "angularaxis": {
            "gridcolor": "white",
            "linecolor": "white",
            "ticks": ""
           },
           "bgcolor": "#E5ECF6",
           "radialaxis": {
            "gridcolor": "white",
            "linecolor": "white",
            "ticks": ""
           }
          },
          "scene": {
           "xaxis": {
            "backgroundcolor": "#E5ECF6",
            "gridcolor": "white",
            "gridwidth": 2,
            "linecolor": "white",
            "showbackground": true,
            "ticks": "",
            "zerolinecolor": "white"
           },
           "yaxis": {
            "backgroundcolor": "#E5ECF6",
            "gridcolor": "white",
            "gridwidth": 2,
            "linecolor": "white",
            "showbackground": true,
            "ticks": "",
            "zerolinecolor": "white"
           },
           "zaxis": {
            "backgroundcolor": "#E5ECF6",
            "gridcolor": "white",
            "gridwidth": 2,
            "linecolor": "white",
            "showbackground": true,
            "ticks": "",
            "zerolinecolor": "white"
           }
          },
          "shapedefaults": {
           "line": {
            "color": "#2a3f5f"
           }
          },
          "ternary": {
           "aaxis": {
            "gridcolor": "white",
            "linecolor": "white",
            "ticks": ""
           },
           "baxis": {
            "gridcolor": "white",
            "linecolor": "white",
            "ticks": ""
           },
           "bgcolor": "#E5ECF6",
           "caxis": {
            "gridcolor": "white",
            "linecolor": "white",
            "ticks": ""
           }
          },
          "title": {
           "x": 0.05
          },
          "xaxis": {
           "automargin": true,
           "gridcolor": "white",
           "linecolor": "white",
           "ticks": "",
           "title": {
            "standoff": 15
           },
           "zerolinecolor": "white",
           "zerolinewidth": 2
          },
          "yaxis": {
           "automargin": true,
           "gridcolor": "white",
           "linecolor": "white",
           "ticks": "",
           "title": {
            "standoff": 15
           },
           "zerolinecolor": "white",
           "zerolinewidth": 2
          }
         }
        },
        "title": {
         "text": "Hyperparameter Importances"
        },
        "xaxis": {
         "title": {
          "text": "Hyperparameter Importance"
         }
        },
        "yaxis": {
         "title": {
          "text": "Hyperparameter"
         }
        }
       }
      }
     },
     "metadata": {},
     "output_type": "display_data"
    },
    {
     "name": "stderr",
     "output_type": "stream",
     "text": [
      "/tmp/ipykernel_259413/536610924.py:26: UserWarning:\n",
      "\n",
      "Argument(s) 'max_holes, max_height, max_width' are not valid for transform CoarseDropout\n",
      "\n"
     ]
    },
    {
     "name": "stdout",
     "output_type": "stream",
     "text": [
      "Best parameters: {'lr': 4.737403287595405e-05, 'batch_size': 32, 'dropout_rate': 0.40407125986425874, 'conv_filters': 64}\n",
      "Starting final training...\n",
      "Label classes: ['bacterial_leaf_blight' 'bacterial_panicle_blight' 'blast' 'brown_spot'\n",
      " 'dead_heart' 'downy_mildew']\n",
      "Epoch 1/50\n",
      "\u001b[1m1/1\u001b[0m \u001b[32m━━━━━━━━━━━━━━━━━━━━\u001b[0m\u001b[37m\u001b[0m \u001b[1m3s\u001b[0m 3s/step - accuracy: 0.1429 - loss: 2.3297 - val_accuracy: 0.1250 - val_loss: 1.8340\n",
      "Epoch 2/50\n",
      "\u001b[1m1/1\u001b[0m \u001b[32m━━━━━━━━━━━━━━━━━━━━\u001b[0m\u001b[37m\u001b[0m \u001b[1m2s\u001b[0m 2s/step - accuracy: 0.2143 - loss: 4.4763 - val_accuracy: 0.2500 - val_loss: 1.8178\n",
      "Epoch 3/50\n",
      "\u001b[1m1/1\u001b[0m \u001b[32m━━━━━━━━━━━━━━━━━━━━\u001b[0m\u001b[37m\u001b[0m \u001b[1m2s\u001b[0m 2s/step - accuracy: 0.1786 - loss: 3.0873 - val_accuracy: 0.2500 - val_loss: 1.7947\n",
      "Epoch 4/50\n",
      "\u001b[1m1/1\u001b[0m \u001b[32m━━━━━━━━━━━━━━━━━━━━\u001b[0m\u001b[37m\u001b[0m \u001b[1m2s\u001b[0m 2s/step - accuracy: 0.2500 - loss: 2.2148 - val_accuracy: 0.2500 - val_loss: 1.7933\n",
      "Epoch 5/50\n",
      "\u001b[1m1/1\u001b[0m \u001b[32m━━━━━━━━━━━━━━━━━━━━\u001b[0m\u001b[37m\u001b[0m \u001b[1m2s\u001b[0m 2s/step - accuracy: 0.3214 - loss: 2.7943 - val_accuracy: 0.1250 - val_loss: 1.7283\n",
      "Epoch 6/50\n",
      "\u001b[1m1/1\u001b[0m \u001b[32m━━━━━━━━━━━━━━━━━━━━\u001b[0m\u001b[37m\u001b[0m \u001b[1m2s\u001b[0m 2s/step - accuracy: 0.3571 - loss: 2.0140 - val_accuracy: 0.2500 - val_loss: 1.8062\n",
      "Epoch 7/50\n",
      "\u001b[1m1/1\u001b[0m \u001b[32m━━━━━━━━━━━━━━━━━━━━\u001b[0m\u001b[37m\u001b[0m \u001b[1m2s\u001b[0m 2s/step - accuracy: 0.3571 - loss: 2.0664 - val_accuracy: 0.2500 - val_loss: 1.8783\n",
      "Epoch 8/50\n",
      "\u001b[1m1/1\u001b[0m \u001b[32m━━━━━━━━━━━━━━━━━━━━\u001b[0m\u001b[37m\u001b[0m \u001b[1m2s\u001b[0m 2s/step - accuracy: 0.3571 - loss: 2.1341 - val_accuracy: 0.2500 - val_loss: 1.7917\n",
      "Epoch 9/50\n",
      "\u001b[1m1/1\u001b[0m \u001b[32m━━━━━━━━━━━━━━━━━━━━\u001b[0m\u001b[37m\u001b[0m \u001b[1m2s\u001b[0m 2s/step - accuracy: 0.3929 - loss: 2.1958 - val_accuracy: 0.3750 - val_loss: 1.7595\n",
      "Epoch 10/50\n",
      "\u001b[1m1/1\u001b[0m \u001b[32m━━━━━━━━━━━━━━━━━━━━\u001b[0m\u001b[37m\u001b[0m \u001b[1m2s\u001b[0m 2s/step - accuracy: 0.4643 - loss: 1.6511 - val_accuracy: 0.1250 - val_loss: 1.7767\n"
     ]
    },
    {
     "data": {
      "image/png": "[encoded data removed]",
      "text/plain": [
       "<Figure size 1200x500 with 2 Axes>"
      ]
     },
     "metadata": {},
     "output_type": "display_data"
    },
    {
     "name": "stdout",
     "output_type": "stream",
     "text": [
      "Training completed and model saved!\n"
     ]
    }
   ],
   "source": [
    "# %% [Main Execution]\n",
    "if __name__ == \"__main__\":\n",
    "    os.makedirs(config[\"save_dir\"], exist_ok=True)\n",
    "    \n",
    "    # Configuration for optimization\n",
    "    opt_config = {\n",
    "        **config,\n",
    "        \"target_size\": (255, 255),\n",
    "        \"input_shape\": (255, 255, 3)\n",
    "    }\n",
    "    \n",
    "    # Run optimization\n",
    "    print(\"Starting hyperparameter optimization...\")\n",
    "    best_params = optimize_hyperparameters(opt_config, n_trials=5)\n",
    "    print(\"Best parameters:\", best_params)\n",
    "    \n",
    "    # Final training\n",
    "    final_config = {\n",
    "        **opt_config,\n",
    "        **best_params,\n",
    "        \"epochs\": 50,\n",
    "        \"augmentation\": [\n",
    "            A.Resize(width=255, height=255),\n",
    "            A.HueSaturationValue(p=0.5),\n",
    "            A.CLAHE(p=0.5),    \n",
    "            A.CoarseDropout(num_holes_range=[5, 10], hole_height_range=[0.01, 0.02], hole_width_range=[0.01, 0.02], max_holes=3, max_height=5, max_width=5),\n",
    "        ]\n",
    "    }\n",
    "    \n",
    "    print(\"Starting final training...\")\n",
    "    final_model, final_history = train_final_model(final_config)\n",
    "    \n",
    "    plot_accuracy_loss(final_history)\n",
    "    \n",
    "    # Save results\n",
    "    final_model.save(os.path.join(config[\"save_dir\"], 'final_model.keras'))\n",
    "    with open(os.path.join(config[\"save_dir\"], 'training_history.pkl'), 'wb') as f:\n",
    "        pickle.dump(final_history.history, f)\n",
    "    \n",
    "    print(\"Training completed and model saved!\")"
   ]
  },
  {
   "cell_type": "code",
   "execution_count": 25,
   "id": "804d6b0f",
   "metadata": {},
   "outputs": [],
   "source": [
    "from sklearn.metrics import precision_recall_curve, roc_curve\n",
    "from sklearn.metrics import accuracy_score, confusion_matrix, classification_report\n",
    "\n",
    "def evaluate_saved_model(model_path, use_val_set=True):\n",
    "    \"\"\"Enhanced evaluation with comprehensive visualizations\"\"\"\n",
    "    try:\n",
    "        # Load model and label encoder\n",
    "        with open(config['label_encoder_path'], 'rb') as f:\n",
    "            classes = np.load(f, allow_pickle=True)\n",
    "        le = LabelEncoder()\n",
    "        le.classes_ = classes\n",
    "\n",
    "        model = tf.keras.models.load_model(model_path, compile=False)\n",
    "        cleanup_gpu_memory()\n",
    "        \n",
    "        # Calculate optimal batch size\n",
    "        optimized_batch_size = calculate_max_batch_size(\n",
    "            model, \n",
    "            input_shape=config[\"input_shape\"],\n",
    "            gpu_mem=config[\"gpu_memory_limit\"],\n",
    "            default_batch=config[\"batch_size\"],\n",
    "        )\n",
    "        \n",
    "        # Compile with additional metrics\n",
    "        model.compile(\n",
    "            optimizer='adam',\n",
    "            loss='sparse_categorical_crossentropy',\n",
    "            metrics=[\n",
    "                tf.keras.metrics.SparseCategoricalAccuracy(name='accuracy'),\n",
    "                tf.keras.metrics.SparseTopKCategoricalAccuracy(k=3, name='top3_accuracy'),\n",
    "                tf.keras.metrics.Precision(name='precision'),\n",
    "                tf.keras.metrics.Recall(name='recall')\n",
    "            ]\n",
    "        )\n",
    "\n",
    "        # Load data\n",
    "        eval_df = pd.read_csv(config[\"val_set_csv\"]) if use_val_set else load_and_preprocess_data(save_splits=False)[1]\n",
    "        print(f\"\\nEvaluating on {len(eval_df)} samples\")\n",
    "        \n",
    "        eval_gen = RiceDataGenerator(\n",
    "            df=eval_df,\n",
    "            base_path=config[\"data_path\"],\n",
    "            batch_size=optimized_batch_size,\n",
    "            target_size=config[\"target_size\"],\n",
    "            shuffle=False\n",
    "        )\n",
    "\n",
    "        # 1. Standard Evaluation Metrics\n",
    "        results = model.evaluate(eval_gen, verbose=1, return_dict=True)\n",
    "        print(\"\\n[EVALUATION METRICS]\")\n",
    "        for k, v in results.items():\n",
    "            print(f\"{k:20}: {v:.4f}\")\n",
    "\n",
    "        # 2. Collect predictions for detailed analysis\n",
    "        y_true, y_pred, y_probs = [], [], []\n",
    "        for i in range(len(eval_gen)):\n",
    "            x, y = eval_gen[i]\n",
    "            y_true.extend(y)\n",
    "            y_probs.extend(model.predict(x, verbose=0))\n",
    "            y_pred.extend(np.argmax(y_probs[-len(y):], axis=1))\n",
    "\n",
    "        y_true = np.array(y_true)\n",
    "        y_pred = np.array(y_pred)\n",
    "        y_probs = np.vstack(y_probs)\n",
    "\n",
    "        # 3. Enhanced Visualizations\n",
    "        plt.figure(figsize=(15, 12))\n",
    "        \n",
    "        # 3.1 Confusion Matrix (Normalized)\n",
    "        plt.subplot(2, 2, 1)\n",
    "        cm = confusion_matrix(y_true, y_pred, normalize='true')\n",
    "        sns.heatmap(cm, annot=True, fmt='.2f', xticklabels=le.classes_, yticklabels=le.classes_, cmap='Blues')\n",
    "        plt.title('Normalized Confusion Matrix')\n",
    "        plt.xticks(rotation=45)\n",
    "        plt.yticks(rotation=0)\n",
    "\n",
    "        # 3.2 Class-wise Precision-Recall\n",
    "        plt.subplot(2, 2, 2)\n",
    "        precision, recall, _ = precision_recall_curve(y_true, y_probs[:, 1], pos_label=1)\n",
    "        plt.plot(recall, precision, marker='.')\n",
    "        plt.xlabel('Recall')\n",
    "        plt.ylabel('Precision')\n",
    "        plt.title('Precision-Recall Curve')\n",
    "\n",
    "        # 3.3 ROC Curve (for binary/multi-class)\n",
    "        plt.subplot(2, 2, 3)\n",
    "        if len(le.classes_) == 2:\n",
    "            fpr, tpr, _ = roc_curve(y_true, y_probs[:, 1])\n",
    "            plt.plot(fpr, tpr, marker='.')\n",
    "            plt.plot([0, 1], [0, 1], linestyle='--')\n",
    "            plt.xlabel('False Positive Rate')\n",
    "            plt.ylabel('True Positive Rate')\n",
    "            plt.title('ROC Curve')\n",
    "        else:\n",
    "            # Multi-class ROC\n",
    "            for i in range(len(le.classes_)):\n",
    "                fpr, tpr, _ = roc_curve(y_true == i, y_probs[:, i])\n",
    "                plt.plot(fpr, tpr, label=le.classes_[i])\n",
    "            plt.plot([0, 1], [0, 1], linestyle='--')\n",
    "            plt.xlabel('False Positive Rate')\n",
    "            plt.ylabel('True Positive Rate')\n",
    "            plt.title('Multi-class ROC Curves')\n",
    "            plt.legend()\n",
    "\n",
    "        # 3.4 Prediction Distribution\n",
    "        plt.subplot(2, 2, 4)\n",
    "        pred_confidences = np.max(y_probs, axis=1)\n",
    "        plt.hist(pred_confidences, bins=20)\n",
    "        plt.xlabel('Prediction Confidence')\n",
    "        plt.ylabel('Count')\n",
    "        plt.title('Distribution of Prediction Confidences')\n",
    "\n",
    "        plt.tight_layout()\n",
    "        plt.show()\n",
    "\n",
    "        # 4. Enhanced Classification Report\n",
    "        print(\"\\n[ENHANCED CLASSIFICATION REPORT]\")\n",
    "        print(classification_report(\n",
    "            y_true, \n",
    "            y_pred, \n",
    "            target_names=le.classes_,\n",
    "            digits=4\n",
    "        ))\n",
    "\n",
    "        # 5. Top Misclassified Examples\n",
    "        print(\"\\n[TOP MISCLASSIFIED EXAMPLES]\")\n",
    "        misclassified = np.where(y_true != y_pred)[0]\n",
    "        if len(misclassified) > 0:\n",
    "            top_misclassified = sorted(\n",
    "                misclassified, \n",
    "                key=lambda i: y_probs[i][y_pred[i]], \n",
    "                reverse=True\n",
    "            )[:5]\n",
    "            \n",
    "            plt.figure(figsize=(15, 5))\n",
    "            for i, idx in enumerate(top_misclassified, 1):\n",
    "                img = eval_gen[int(idx/optimized_batch_size)][0][idx%optimized_batch_size]\n",
    "                plt.subplot(1, 5, i)\n",
    "                plt.imshow(img)\n",
    "                true_label = le.classes_[y_true[idx]]\n",
    "                pred_label = le.classes_[y_pred[idx]]\n",
    "                conf = y_probs[idx][y_pred[idx]]\n",
    "                plt.title(f\"True: {true_label}\\nPred: {pred_label}\\nConf: {conf:.2f}\")\n",
    "                plt.axis('off')\n",
    "            plt.suptitle('Top Misclassified Examples (Highest Confidence Wrong Predictions)')\n",
    "            plt.show()\n",
    "\n",
    "        return {\n",
    "            'metrics': results,\n",
    "            'confusion_matrix': confusion_matrix(y_true, y_pred),\n",
    "            'classification_report': classification_report(y_true, y_pred, target_names=le.classes_, output_dict=True)\n",
    "        }\n",
    "\n",
    "    except Exception as e:\n",
    "        print(f\"Evaluation failed: {e}\")\n",
    "        raise"
   ]
  },
  {
   "cell_type": "code",
   "execution_count": 28,
   "id": "f1203b50",
   "metadata": {},
   "outputs": [
    {
     "name": "stdout",
     "output_type": "stream",
     "text": [
      "\n",
      "Evaluating on 8 samples\n",
      "Evaluation failed: 'NoneType' object is not subscriptable\n"
     ]
    },
    {
     "ename": "TypeError",
     "evalue": "'NoneType' object is not subscriptable",
     "output_type": "error",
     "traceback": [
      "\u001b[0;31m---------------------------------------------------------------------------\u001b[0m",
      "\u001b[0;31mTypeError\u001b[0m                                 Traceback (most recent call last)",
      "Cell \u001b[0;32mIn[28], line 1\u001b[0m\n\u001b[0;32m----> 1\u001b[0m results \u001b[38;5;241m=\u001b[39m evaluate_saved_model(\u001b[38;5;124m\"\u001b[39m\u001b[38;5;124mModel/training8_customCNN_rgb_att_SMOT_aug_bay_1/final_model.keras\u001b[39m\u001b[38;5;124m\"\u001b[39m)\n\u001b[1;32m      3\u001b[0m \u001b[38;5;66;03m# Access specific results:\u001b[39;00m\n\u001b[1;32m      4\u001b[0m \u001b[38;5;28mprint\u001b[39m(\u001b[38;5;124m\"\u001b[39m\u001b[38;5;124mTest Accuracy:\u001b[39m\u001b[38;5;124m\"\u001b[39m, results[\u001b[38;5;124m'\u001b[39m\u001b[38;5;124mmetrics\u001b[39m\u001b[38;5;124m'\u001b[39m][\u001b[38;5;124m'\u001b[39m\u001b[38;5;124maccuracy\u001b[39m\u001b[38;5;124m'\u001b[39m])\n",
      "Cell \u001b[0;32mIn[25], line 40\u001b[0m, in \u001b[0;36mevaluate_saved_model\u001b[0;34m(model_path, use_val_set)\u001b[0m\n\u001b[1;32m     37\u001b[0m eval_df \u001b[38;5;241m=\u001b[39m pd\u001b[38;5;241m.\u001b[39mread_csv(config[\u001b[38;5;124m\"\u001b[39m\u001b[38;5;124mval_set_csv\u001b[39m\u001b[38;5;124m\"\u001b[39m]) \u001b[38;5;28;01mif\u001b[39;00m use_val_set \u001b[38;5;28;01melse\u001b[39;00m load_and_preprocess_data(save_splits\u001b[38;5;241m=\u001b[39m\u001b[38;5;28;01mFalse\u001b[39;00m)[\u001b[38;5;241m1\u001b[39m]\n\u001b[1;32m     38\u001b[0m \u001b[38;5;28mprint\u001b[39m(\u001b[38;5;124mf\u001b[39m\u001b[38;5;124m\"\u001b[39m\u001b[38;5;130;01m\\n\u001b[39;00m\u001b[38;5;124mEvaluating on \u001b[39m\u001b[38;5;132;01m{\u001b[39;00m\u001b[38;5;28mlen\u001b[39m(eval_df)\u001b[38;5;132;01m}\u001b[39;00m\u001b[38;5;124m samples\u001b[39m\u001b[38;5;124m\"\u001b[39m)\n\u001b[0;32m---> 40\u001b[0m eval_gen \u001b[38;5;241m=\u001b[39m RiceDataGenerator(\n\u001b[1;32m     41\u001b[0m     df\u001b[38;5;241m=\u001b[39meval_df,\n\u001b[1;32m     42\u001b[0m     base_path\u001b[38;5;241m=\u001b[39mconfig[\u001b[38;5;124m\"\u001b[39m\u001b[38;5;124mdata_path\u001b[39m\u001b[38;5;124m\"\u001b[39m],\n\u001b[1;32m     43\u001b[0m     batch_size\u001b[38;5;241m=\u001b[39moptimized_batch_size,\n\u001b[1;32m     44\u001b[0m     target_size\u001b[38;5;241m=\u001b[39mconfig[\u001b[38;5;124m\"\u001b[39m\u001b[38;5;124mtarget_size\u001b[39m\u001b[38;5;124m\"\u001b[39m],\n\u001b[1;32m     45\u001b[0m     shuffle\u001b[38;5;241m=\u001b[39m\u001b[38;5;28;01mFalse\u001b[39;00m\n\u001b[1;32m     46\u001b[0m )\n\u001b[1;32m     48\u001b[0m \u001b[38;5;66;03m# 1. Standard Evaluation Metrics\u001b[39;00m\n\u001b[1;32m     49\u001b[0m results \u001b[38;5;241m=\u001b[39m model\u001b[38;5;241m.\u001b[39mevaluate(eval_gen, verbose\u001b[38;5;241m=\u001b[39m\u001b[38;5;241m1\u001b[39m, return_dict\u001b[38;5;241m=\u001b[39m\u001b[38;5;28;01mTrue\u001b[39;00m)\n",
      "Cell \u001b[0;32mIn[17], line 13\u001b[0m, in \u001b[0;36mRiceDataGenerator.__init__\u001b[0;34m(self, df, base_path, batch_size, target_size, shuffle, debug, config, **kwargs)\u001b[0m\n\u001b[1;32m     10\u001b[0m \u001b[38;5;28mself\u001b[39m\u001b[38;5;241m.\u001b[39mindices \u001b[38;5;241m=\u001b[39m np\u001b[38;5;241m.\u001b[39marange(\u001b[38;5;28mlen\u001b[39m(df))\n\u001b[1;32m     11\u001b[0m \u001b[38;5;28mself\u001b[39m\u001b[38;5;241m.\u001b[39mconfig \u001b[38;5;241m=\u001b[39m config \u001b[38;5;28;01mif\u001b[39;00m config \u001b[38;5;28;01melse\u001b[39;00m {}\n\u001b[0;32m---> 13\u001b[0m \u001b[38;5;28mself\u001b[39m\u001b[38;5;241m.\u001b[39maug \u001b[38;5;241m=\u001b[39m A\u001b[38;5;241m.\u001b[39mCompose(config[\u001b[38;5;124m\"\u001b[39m\u001b[38;5;124maugmentation\u001b[39m\u001b[38;5;124m\"\u001b[39m])\n\u001b[1;32m     15\u001b[0m \u001b[38;5;28;01mif\u001b[39;00m shuffle:\n\u001b[1;32m     16\u001b[0m     np\u001b[38;5;241m.\u001b[39mrandom\u001b[38;5;241m.\u001b[39mshuffle(\u001b[38;5;28mself\u001b[39m\u001b[38;5;241m.\u001b[39mindices)\n",
      "\u001b[0;31mTypeError\u001b[0m: 'NoneType' object is not subscriptable"
     ]
    }
   ],
   "source": [
    "results = evaluate_saved_model(\"Model/training8_customCNN_rgb_att_SMOT_aug_bay_1/final_model.keras\")\n",
    "\n",
    "# Access specific results:\n",
    "print(\"Test Accuracy:\", results['metrics']['accuracy'])\n",
    "print(\"Class-wise Performance:\")\n",
    "print(pd.DataFrame(results['classification_report']).transpose())"
   ]
  }
 ],
 "metadata": {
  "kernelspec": {
   "display_name": "base",
   "language": "python",
   "name": "python3"
  },
  "language_info": {
   "codemirror_mode": {
    "name": "ipython",
    "version": 3
   },
   "file_extension": ".py",
   "mimetype": "text/x-python",
   "name": "python",
   "nbconvert_exporter": "python",
   "pygments_lexer": "ipython3",
   "version": "3.12.7"
  }
 },
 "nbformat": 4,
 "nbformat_minor": 5
}
