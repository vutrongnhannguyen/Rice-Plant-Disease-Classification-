{
 "cells": [
  {
   "cell_type": "markdown",
   "metadata": {},
   "source": [
    "# Rice Disease Classification - Model Training\n",
    "\n",
    "This notebook trains a custom MobileNet-style model with dual output heads for classifying rice plant diseases.\n",
    "Data preprocessing and loading are handled by the `DataLoader` class imported from `data_preprocessing.py`."
   ]
  }
 ],
 "metadata": {
  "language_info": {
   "name": "python"
  }
 },
 "nbformat": 4,
 "nbformat_minor": 5
}
