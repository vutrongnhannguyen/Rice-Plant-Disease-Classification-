{
 "cells": [
  {
   "cell_type": "code",
   "execution_count": 11,
   "id": "389dc345",
   "metadata": {},
   "outputs": [],
   "source": [
    "import tensorflow as tf\n",
    "gpus = tf.config.list_physical_devices('GPU')\n",
    "if gpus:\n",
    "    try:\n",
    "        for gpu in gpus:\n",
    "            tf.config.experimental.set_memory_growth(gpu, True)\n",
    "    except RuntimeError as e:\n",
    "        print(e)\n",
    "\n",
    "# Now import other libraries or define your model\n"
   ]
  },
  {
   "cell_type": "code",
   "execution_count": 12,
   "id": "769b2afc",
   "metadata": {},
   "outputs": [
    {
     "name": "stdout",
     "output_type": "stream",
     "text": [
      "Success: zlibwapi.dll is accessible!\n"
     ]
    }
   ],
   "source": [
    "import ctypes\n",
    "try:\n",
    "    ctypes.WinDLL('zlibwapi.dll')  # Test loading the DLL\n",
    "    print(\"Success: zlibwapi.dll is accessible!\")\n",
    "except Exception as e:\n",
    "    print(f\"Error: {e}\")"
   ]
  },
  {
   "cell_type": "code",
   "execution_count": null,
   "id": "b106cd5e",
   "metadata": {},
   "outputs": [],
   "source": [
    "import os\n",
    "import numpy as np\n",
    "from PIL import Image\n",
    "import pandas as pd\n",
    "import tensorflow as tf\n",
    "import matplotlib.pyplot as plt\n",
    "import cv2\n",
    "\n",
    "from tensorflow.keras.applications import EfficientNetB0\n",
    "from tensorflow.keras.applications import InceptionV3\n",
    "from tensorflow.keras.applications.inception_v3 import preprocess_input\n",
    "from tensorflow.keras.utils import Sequence\n",
    "\n",
    "from tensorflow.keras import layers, models\n",
    "from tensorflow.keras.models import Model\n",
    "from tensorflow.keras.layers import Input, Dense, GlobalAveragePooling2D, Dropout, BatchNormalization\n",
    "from tensorflow.keras.optimizers import Adam\n",
    "from tensorflow.keras.regularizers import l2\n",
    "\n",
    "from sklearn.model_selection import train_test_split\n",
    "from sklearn.metrics import mean_absolute_error, mean_squared_error, r2_score"
   ]
  },
  {
   "cell_type": "code",
   "execution_count": 14,
   "id": "898aee5e",
   "metadata": {},
   "outputs": [],
   "source": [
    "from keras import backend as K\n",
    "\n",
    "# Clear previous sessions\n",
    "K.clear_session()"
   ]
  },
  {
   "cell_type": "code",
   "execution_count": 15,
   "id": "af5cde15",
   "metadata": {},
   "outputs": [],
   "source": [
    "class AgeDataGenerator(Sequence):\n",
    "    def __init__(self, image_info_list, batch_size=16, img_size=(128, 128), shuffle=True):\n",
    "        self.image_info = image_info_list\n",
    "        self.batch_size = batch_size\n",
    "        self.img_size = img_size\n",
    "        self.shuffle = shuffle\n",
    "        self.on_epoch_end()\n",
    "\n",
    "    def __len__(self):\n",
    "        return int(np.ceil(len(self.image_info) / self.batch_size))\n",
    "\n",
    "    def __getitem__(self, index):\n",
    "        batch_info = self.image_info[index * self.batch_size : (index + 1) * self.batch_size]\n",
    "        X, y = self.__data_generation(batch_info)\n",
    "        return X, y\n",
    "\n",
    "    def on_epoch_end(self):\n",
    "        if self.shuffle:\n",
    "            np.random.shuffle(self.image_info)\n",
    "\n",
    "    def __data_generation(self, batch_info):\n",
    "        X = []\n",
    "        y = []\n",
    "        for img_path, age in batch_info:\n",
    "            try:\n",
    "                img = cv2.imread(img_path)\n",
    "                img = cv2.resize(img, self.img_size)\n",
    "                img = img.astype(np.float32) / 255.0\n",
    "                X.append(img)\n",
    "                y.append(age)\n",
    "            except:\n",
    "                continue\n",
    "        return np.array(X), np.array(y)"
   ]
  },
  {
   "cell_type": "code",
   "execution_count": 16,
   "id": "6bf482c2",
   "metadata": {},
   "outputs": [],
   "source": [
    "metadata_path = \"Dataset/meta_train.csv\"\n",
    "metadata_df = pd.read_csv(metadata_path)\n",
    "metadata_df.set_index('image_id', inplace=True)\n",
    "\n",
    "image_info_list = []\n",
    "base_path = \"Dataset/preprocessed_images\"\n",
    "labels = os.listdir(base_path)\n",
    "\n",
    "for label in labels:\n",
    "    folder = os.path.join(base_path, label)\n",
    "    image_files = os.listdir(folder)\n",
    "    base_names = sorted(set(f.split('_')[0] for f in image_files))\n",
    "\n",
    "    for base in base_names:\n",
    "        red = os.path.join(folder, f\"{base}_red.jpg\")\n",
    "        green = os.path.join(folder, f\"{base}_green.jpg\")\n",
    "        blue = os.path.join(folder, f\"{base}_blue.jpg\")\n",
    "        if not all(os.path.exists(p) for p in [red, green, blue]):\n",
    "            continue\n",
    "\n",
    "        stacked_path = os.path.join(folder, f\"{base}_stacked.jpg\")\n",
    "        if not os.path.exists(stacked_path):\n",
    "            r = cv2.imread(red, cv2.IMREAD_GRAYSCALE)\n",
    "            g = cv2.imread(green, cv2.IMREAD_GRAYSCALE)\n",
    "            b = cv2.imread(blue, cv2.IMREAD_GRAYSCALE)\n",
    "            stacked = np.stack([r, g, b], axis=-1)\n",
    "            cv2.imwrite(stacked_path, stacked)\n",
    "\n",
    "        image_id = base + \".jpg\"\n",
    "        if image_id in metadata_df.index:\n",
    "            age = float(metadata_df.loc[image_id, \"age\"])\n",
    "            image_info_list.append((stacked_path, age))"
   ]
  },
  {
   "cell_type": "code",
   "execution_count": 17,
   "id": "20f0d28c",
   "metadata": {},
   "outputs": [],
   "source": [
    "train_list, val_list = train_test_split(image_info_list, test_size=0.2, random_state=42)\n",
    "train_gen = AgeDataGenerator(train_list, batch_size=16, img_size=(128, 128))\n",
    "val_gen = AgeDataGenerator(val_list, batch_size=16, img_size=(128, 128))"
   ]
  },
  {
   "cell_type": "code",
   "execution_count": 18,
   "id": "06344865",
   "metadata": {},
   "outputs": [],
   "source": [
    "input_tensor = Input(shape=(128, 128, 3))\n",
    "base_model = EfficientNetB0(include_top=False, weights=None, input_tensor=input_tensor)\n",
    "\n",
    "x = GlobalAveragePooling2D()(base_model.output)\n",
    "x = Dense(256, activation='relu', kernel_regularizer=l2(0.05))(x)\n",
    "x = Dropout(0.7)(x)\n",
    "x = BatchNormalization()(x)\n",
    "x = Dense(128, activation='relu', kernel_regularizer=l2(0.01))(x)\n",
    "output = Dense(1, activation='linear')(x)\n",
    "\n",
    "model = Model(inputs=base_model.input, outputs=output)\n",
    "\n",
    "lr_schedule = tf.keras.optimizers.schedules.ExponentialDecay(\n",
    "    initial_learning_rate=0.001,\n",
    "    decay_steps=1000,\n",
    "    decay_rate=0.9\n",
    ")\n",
    "optimizer = Adam(learning_rate=lr_schedule)\n",
    "\n",
    "model.compile(optimizer=optimizer, loss='mae', metrics=['mae'])"
   ]
  },
  {
   "cell_type": "code",
   "execution_count": 19,
   "id": "afcf2465",
   "metadata": {},
   "outputs": [
    {
     "name": "stdout",
     "output_type": "stream",
     "text": [
      "Epoch 1/30\n",
      "521/521 [==============================] - 71s 114ms/step - loss: 22.4005 - mae: 17.5825 - val_loss: 19.4444 - val_mae: 15.4869\n",
      "Epoch 2/30\n",
      "521/521 [==============================] - 58s 111ms/step - loss: 13.7738 - mae: 10.0328 - val_loss: 13.2825 - val_mae: 9.6900\n",
      "Epoch 3/30\n",
      "521/521 [==============================] - 58s 111ms/step - loss: 12.0860 - mae: 8.9914 - val_loss: 53.6884 - val_mae: 50.8175\n",
      "Epoch 4/30\n",
      "521/521 [==============================] - 58s 111ms/step - loss: 11.2481 - mae: 8.6612 - val_loss: 10.2778 - val_mae: 7.8474\n",
      "Epoch 5/30\n",
      "521/521 [==============================] - 58s 110ms/step - loss: 10.1596 - mae: 8.2274 - val_loss: 9.4025 - val_mae: 7.7614\n",
      "Epoch 6/30\n",
      "521/521 [==============================] - 58s 110ms/step - loss: 9.7137 - mae: 8.1145 - val_loss: 9.1653 - val_mae: 7.5655\n",
      "Epoch 7/30\n",
      "521/521 [==============================] - 58s 111ms/step - loss: 9.5520 - mae: 8.0951 - val_loss: 10.4268 - val_mae: 9.1302\n",
      "Epoch 8/30\n",
      "521/521 [==============================] - 58s 111ms/step - loss: 9.0641 - mae: 7.8942 - val_loss: 8.9113 - val_mae: 7.5815\n",
      "Epoch 9/30\n",
      "521/521 [==============================] - 60s 116ms/step - loss: 9.1451 - mae: 7.9314 - val_loss: 8.3679 - val_mae: 7.1443\n",
      "Epoch 10/30\n",
      "521/521 [==============================] - 58s 111ms/step - loss: 8.9294 - mae: 7.7746 - val_loss: 8.6249 - val_mae: 7.5378\n",
      "Epoch 11/30\n",
      "521/521 [==============================] - 58s 110ms/step - loss: 8.9848 - mae: 7.7979 - val_loss: 9.1136 - val_mae: 8.0799\n",
      "Epoch 12/30\n",
      "521/521 [==============================] - 58s 110ms/step - loss: 8.6349 - mae: 7.6467 - val_loss: 9.2916 - val_mae: 8.2408\n",
      "Epoch 13/30\n",
      "521/521 [==============================] - 58s 111ms/step - loss: 8.5690 - mae: 7.5902 - val_loss: 8.2735 - val_mae: 7.3371\n",
      "Epoch 14/30\n",
      "521/521 [==============================] - 58s 111ms/step - loss: 8.2721 - mae: 7.4404 - val_loss: 8.2048 - val_mae: 7.3936\n",
      "Epoch 15/30\n",
      "521/521 [==============================] - 57s 110ms/step - loss: 8.2056 - mae: 7.4341 - val_loss: 8.0160 - val_mae: 7.2232\n",
      "Epoch 16/30\n",
      "521/521 [==============================] - 57s 109ms/step - loss: 8.2632 - mae: 7.5601 - val_loss: 8.1168 - val_mae: 7.4590\n",
      "Epoch 17/30\n",
      "521/521 [==============================] - 54s 103ms/step - loss: 7.9243 - mae: 7.2958 - val_loss: 7.8685 - val_mae: 7.2677\n",
      "Epoch 18/30\n",
      "521/521 [==============================] - 55s 106ms/step - loss: 7.8767 - mae: 7.2702 - val_loss: 7.6019 - val_mae: 7.0217\n",
      "Epoch 19/30\n",
      "521/521 [==============================] - 57s 110ms/step - loss: 7.7740 - mae: 7.2057 - val_loss: 8.4582 - val_mae: 7.9183\n",
      "Epoch 20/30\n",
      "521/521 [==============================] - 57s 110ms/step - loss: 7.7368 - mae: 7.2093 - val_loss: 7.6714 - val_mae: 7.1414\n",
      "Epoch 21/30\n",
      "521/521 [==============================] - 57s 110ms/step - loss: 7.5779 - mae: 7.0567 - val_loss: 7.5991 - val_mae: 7.1149\n",
      "Epoch 22/30\n",
      "521/521 [==============================] - 58s 110ms/step - loss: 7.5873 - mae: 7.0974 - val_loss: 7.3780 - val_mae: 6.9138\n",
      "Epoch 23/30\n",
      "521/521 [==============================] - 58s 110ms/step - loss: 7.5335 - mae: 7.0646 - val_loss: 7.3652 - val_mae: 6.8907\n",
      "Epoch 24/30\n",
      "521/521 [==============================] - 58s 110ms/step - loss: 7.3872 - mae: 6.9365 - val_loss: 7.2139 - val_mae: 6.7928\n",
      "Epoch 25/30\n",
      "521/521 [==============================] - 57s 110ms/step - loss: 7.2702 - mae: 6.8610 - val_loss: 7.2042 - val_mae: 6.8139\n",
      "Epoch 26/30\n",
      "521/521 [==============================] - 57s 110ms/step - loss: 7.0546 - mae: 6.6705 - val_loss: 7.0279 - val_mae: 6.6561\n",
      "Epoch 27/30\n",
      "521/521 [==============================] - 57s 109ms/step - loss: 6.9603 - mae: 6.5964 - val_loss: 6.6484 - val_mae: 6.2863\n",
      "Epoch 28/30\n",
      "521/521 [==============================] - 57s 110ms/step - loss: 6.8305 - mae: 6.4852 - val_loss: 6.7729 - val_mae: 6.4537\n",
      "Epoch 29/30\n",
      "521/521 [==============================] - 57s 109ms/step - loss: 6.5663 - mae: 6.2450 - val_loss: 6.6537 - val_mae: 6.3343\n",
      "Epoch 30/30\n",
      "521/521 [==============================] - 58s 111ms/step - loss: 6.5059 - mae: 6.1868 - val_loss: 6.5504 - val_mae: 6.2388\n"
     ]
    }
   ],
   "source": [
    "history = model.fit(\n",
    "    train_gen,\n",
    "    validation_data=val_gen,\n",
    "    epochs=30,\n",
    ")"
   ]
  },
  {
   "cell_type": "code",
   "execution_count": null,
   "id": "470b251c",
   "metadata": {},
   "outputs": [
    {
     "data": {
      "image/png": "[encoded data removed]",
      "text/plain": [
       "<Figure size 1200x500 with 2 Axes>"
      ]
     },
     "metadata": {},
     "output_type": "display_data"
    }
   ],
   "source": [
    "plt.figure(figsize=(12, 5))\n",
    "\n",
    "plt.subplot(1, 2, 1)\n",
    "plt.plot(history.history['loss'], label='Train Loss (MSE)')\n",
    "plt.plot(history.history['val_loss'], label='Val Loss (MSE)')\n",
    "plt.title('Training vs Validation Loss')\n",
    "plt.xlabel('Epochs')\n",
    "plt.ylabel('MSE')\n",
    "plt.legend()\n",
    "plt.grid(True)\n",
    "\n",
    "plt.subplot(1, 2, 2)\n",
    "plt.plot(history.history['mae'], label='Train MAE')\n",
    "plt.plot(history.history['val_mae'], label='Val MAE')\n",
    "plt.title('Training vs Validation MAE')\n",
    "plt.xlabel('Epochs')\n",
    "plt.ylabel('MAE')\n",
    "plt.legend()\n",
    "plt.grid(True)\n",
    "\n",
    "plt.tight_layout()\n",
    "plt.show()"
   ]
  },
  {
   "cell_type": "code",
   "execution_count": 22,
   "id": "da91c6b7",
   "metadata": {},
   "outputs": [
    {
     "name": "stdout",
     "output_type": "stream",
     "text": [
      "Saved predictions to task3_rgb_predictions.csv\n"
     ]
    }
   ],
   "source": [
    "TEST_DIR = \"Dataset/preprocessed_test_images\"\n",
    "OUTPUT_CSV = \"task3_rgb_predictions.csv\"\n",
    "MODEL_INPUT_SIZE = (128, 128)\n",
    "\n",
    "all_files = os.listdir(TEST_DIR)\n",
    "image_ids = sorted(set(f.split(\"_\")[0] for f in all_files if f.endswith(\"_red.jpg\")))\n",
    "\n",
    "results = []\n",
    "\n",
    "for img_id in image_ids:\n",
    "    try:\n",
    "        red_path = os.path.join(TEST_DIR, f\"{img_id}_red.jpg\")\n",
    "        green_path = os.path.join(TEST_DIR, f\"{img_id}_green.jpg\")\n",
    "        blue_path = os.path.join(TEST_DIR, f\"{img_id}_blue.jpg\")\n",
    "\n",
    "        if not all(os.path.exists(p) for p in [red_path, green_path, blue_path]):\n",
    "            print(f\"Missing channel for {img_id}, skipping...\")\n",
    "            continue\n",
    "\n",
    "        r = cv2.imread(red_path, cv2.IMREAD_GRAYSCALE)\n",
    "        g = cv2.imread(green_path, cv2.IMREAD_GRAYSCALE)\n",
    "        b = cv2.imread(blue_path, cv2.IMREAD_GRAYSCALE)\n",
    "\n",
    "        r = cv2.resize(r, MODEL_INPUT_SIZE)\n",
    "        g = cv2.resize(g, MODEL_INPUT_SIZE)\n",
    "        b = cv2.resize(b, MODEL_INPUT_SIZE)\n",
    "\n",
    "        stacked = np.stack([r, g, b], axis=-1).astype(np.float32) / 255.0\n",
    "\n",
    "        img_input = np.expand_dims(stacked, axis=0)\n",
    "\n",
    "        pred = model.predict(img_input, verbose=0)[0][0]\n",
    "\n",
    "        results.append({\n",
    "            \"image_id\": img_id + \".jpg\",\n",
    "            \"age\": round(pred, 2)\n",
    "        })\n",
    "\n",
    "    except Exception as e:\n",
    "        print(f\"Error processing {img_id}: {e}\")\n",
    "\n",
    "df = pd.DataFrame(results)\n",
    "df.to_csv(OUTPUT_CSV, index=False)\n",
    "print(f\"Saved predictions to {OUTPUT_CSV}\")"
   ]
  }
 ],
 "metadata": {
  "kernelspec": {
   "display_name": "tf-gpu",
   "language": "python",
   "name": "python3"
  },
  "language_info": {
   "codemirror_mode": {
    "name": "ipython",
    "version": 3
   },
   "file_extension": ".py",
   "mimetype": "text/x-python",
   "name": "python",
   "nbconvert_exporter": "python",
   "pygments_lexer": "ipython3",
   "version": "3.10.17"
  }
 },
 "nbformat": 4,
 "nbformat_minor": 5
}
