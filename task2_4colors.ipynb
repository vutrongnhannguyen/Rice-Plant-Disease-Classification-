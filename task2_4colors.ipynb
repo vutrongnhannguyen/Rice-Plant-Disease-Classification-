{
 "cells": [
  {
   "cell_type": "code",
   "execution_count": null,
   "id": "7e91c413",
   "metadata": {},
   "outputs": [],
   "source": [
    "import os\n",
    "import random\n",
    "import numpy as np\n",
    "import pandas as pd\n",
    "import tensorflow as tf\n",
    "import matplotlib.pyplot as plt\n",
    "\n",
    "from sklearn.metrics import (\n",
    "    accuracy_score,\n",
    "    confusion_matrix,\n",
    "    ConfusionMatrixDisplay,\n",
    "    classification_report,\n",
    ")\n",
    "from sklearn.model_selection import train_test_split\n",
    "\n",
    "from tensorflow.keras.optimizers import Adam\n",
    "from tensorflow.keras.models import Sequential\n",
    "from tensorflow.keras.utils import to_categorical\n",
    "from tensorflow.keras.callbacks import EarlyStopping\n",
    "from tensorflow.keras.preprocessing.image import ImageDataGenerator\n",
    "from tensorflow.keras.preprocessing.image import load_img, img_to_array\n",
    "from tensorflow.keras.layers import Conv2D, MaxPooling2D, Flatten, Dense, Dropout"
   ]
  },
  {
   "cell_type": "code",
   "execution_count": 14,
   "id": "e9b31ccc",
   "metadata": {},
   "outputs": [],
   "source": [
    "SEED = 42\n",
    "random.seed(SEED)\n",
    "np.random.seed(SEED)\n",
    "tf.random.set_seed(SEED)\n",
    "\n",
    "IMG_SIZE = (128, 128)\n",
    "DATA_DIR = \"Dataset/preprocessed_images\"\n",
    "META_CSV = \"Dataset/meta_train.csv\"\n",
    "EPOCHS = 30\n",
    "BATCH_SIZE = 32"
   ]
  },
  {
   "cell_type": "code",
   "execution_count": 15,
   "id": "afa28d2b",
   "metadata": {},
   "outputs": [],
   "source": [
    "meta_df = pd.read_csv(META_CSV)\n",
    "label_map = {label: idx for idx, label in enumerate(meta_df[\"label\"].unique())}\n",
    "meta_df[\"label_encoded\"] = meta_df[\"label\"].map(label_map)\n",
    "meta_df[\"variety_encoded\"] = pd.factorize(meta_df[\"variety\"])[0]\n",
    "num_classes = len(meta_df[\"variety_encoded\"].unique())\n",
    "CLASS_NAMES = meta_df[\"variety\"].unique()"
   ]
  },
  {
   "cell_type": "code",
   "execution_count": null,
   "id": "a50b3ded",
   "metadata": {},
   "outputs": [],
   "source": [
    "X, y = [], []\n",
    "\n",
    "for _, row in meta_df.iterrows():\n",
    "    img_id = row[\"image_id\"].replace(\".jpg\", \"\")\n",
    "    try:\n",
    "        red = (\n",
    "            img_to_array(\n",
    "                load_img(\n",
    "                    os.path.join(DATA_DIR, row[\"label\"], img_id + \"_red.jpg\"),\n",
    "                    target_size=IMG_SIZE,\n",
    "                )\n",
    "            )\n",
    "            / 255.0\n",
    "        )\n",
    "        green = (\n",
    "            img_to_array(\n",
    "                load_img(\n",
    "                    os.path.join(DATA_DIR, row[\"label\"], img_id + \"_green.jpg\"),\n",
    "                    target_size=IMG_SIZE,\n",
    "                )\n",
    "            )\n",
    "            / 255.0\n",
    "        )\n",
    "        blue = (\n",
    "            img_to_array(\n",
    "                load_img(\n",
    "                    os.path.join(DATA_DIR, row[\"label\"], img_id + \"_blue.jpg\"),\n",
    "                    target_size=IMG_SIZE,\n",
    "                )\n",
    "            )\n",
    "            / 255.0\n",
    "        )\n",
    "        spectral = (\n",
    "            img_to_array(\n",
    "                load_img(\n",
    "                    os.path.join(DATA_DIR, row[\"label\"], img_id + \"_nipy_spectral.jpg\"),\n",
    "                    target_size=IMG_SIZE,\n",
    "                    color_mode=\"grayscale\",\n",
    "                )\n",
    "            )\n",
    "            / 255.0\n",
    "        )\n",
    "        spectral = np.repeat(spectral, 3, axis=-1)\n",
    "        img_array = np.concatenate([red, green, blue, spectral], axis=-1)\n",
    "        X.append(img_array)\n",
    "        y.append(row[\"variety_encoded\"])\n",
    "    except FileNotFoundError:\n",
    "        continue\n",
    "\n",
    "X = np.array(X)\n",
    "y = to_categorical(y, num_classes=num_classes)"
   ]
  },
  {
   "cell_type": "code",
   "execution_count": null,
   "id": "24642648",
   "metadata": {},
   "outputs": [],
   "source": [
    "X_train, X_test, y_train, y_test = train_test_split(\n",
    "    X, y, test_size=0.2, random_state=SEED, stratify=y\n",
    ")"
   ]
  },
  {
   "cell_type": "code",
   "execution_count": null,
   "id": "2ad05067",
   "metadata": {},
   "outputs": [
    {
     "name": "stdout",
     "output_type": "stream",
     "text": [
      "Model: \"sequential_1\"\n",
      "_________________________________________________________________\n",
      " Layer (type)                Output Shape              Param #   \n",
      "=================================================================\n",
      " conv2d_3 (Conv2D)           (None, 126, 126, 32)      3488      \n",
      "                                                                 \n",
      " max_pooling2d_3 (MaxPooling  (None, 63, 63, 32)       0         \n",
      " 2D)                                                             \n",
      "                                                                 \n",
      " conv2d_4 (Conv2D)           (None, 61, 61, 64)        18496     \n",
      "                                                                 \n",
      " max_pooling2d_4 (MaxPooling  (None, 30, 30, 64)       0         \n",
      " 2D)                                                             \n",
      "                                                                 \n",
      " conv2d_5 (Conv2D)           (None, 28, 28, 128)       73856     \n",
      "                                                                 \n",
      " max_pooling2d_5 (MaxPooling  (None, 14, 14, 128)      0         \n",
      " 2D)                                                             \n",
      "                                                                 \n",
      " flatten_1 (Flatten)         (None, 25088)             0         \n",
      "                                                                 \n",
      " dropout_1 (Dropout)         (None, 25088)             0         \n",
      "                                                                 \n",
      " dense_2 (Dense)             (None, 128)               3211392   \n",
      "                                                                 \n",
      " dense_3 (Dense)             (None, 10)                1290      \n",
      "                                                                 \n",
      "=================================================================\n",
      "Total params: 3,308,522\n",
      "Trainable params: 3,308,522\n",
      "Non-trainable params: 0\n",
      "_________________________________________________________________\n"
     ]
    }
   ],
   "source": [
    "model = Sequential(\n",
    "    [\n",
    "        Conv2D(\n",
    "            32, (3, 3), activation=\"relu\", input_shape=(IMG_SIZE[0], IMG_SIZE[1], 12)\n",
    "        ),\n",
    "        MaxPooling2D(2, 2),\n",
    "        Conv2D(64, (3, 3), activation=\"relu\"),\n",
    "        MaxPooling2D(2, 2),\n",
    "        Conv2D(128, (3, 3), activation=\"relu\"),\n",
    "        MaxPooling2D(2, 2),\n",
    "        Flatten(),\n",
    "        Dropout(0.5),\n",
    "        Dense(128, activation=\"relu\"),\n",
    "        Dense(num_classes, activation=\"softmax\"),\n",
    "    ]\n",
    ")\n",
    "\n",
    "model.compile(\n",
    "    optimizer=Adam(learning_rate=0.001),\n",
    "    loss=\"categorical_crossentropy\",\n",
    "    metrics=[\"accuracy\"],\n",
    ")\n",
    "model.summary()"
   ]
  },
  {
   "cell_type": "code",
   "execution_count": null,
   "id": "8cb5f29b",
   "metadata": {},
   "outputs": [
    {
     "name": "stderr",
     "output_type": "stream",
     "text": [
      "c:\\Users\\Administrator\\anaconda3\\envs\\myenv\\lib\\site-packages\\keras\\preprocessing\\image.py:766: UserWarning: NumpyArrayIterator is set to use the data format convention \"channels_last\" (channels on axis 3), i.e. expected either 1, 3, or 4 channels on axis 3. However, it was passed an array with shape (8325, 128, 128, 12) (12 channels).\n",
      "  warnings.warn(\n"
     ]
    },
    {
     "name": "stdout",
     "output_type": "stream",
     "text": [
      "Epoch 1/30\n",
      "261/261 [==============================] - 134s 512ms/step - loss: 1.1935 - accuracy: 0.6810 - val_loss: 1.1726 - val_accuracy: 0.6950\n",
      "Epoch 2/30\n",
      "261/261 [==============================] - 96s 368ms/step - loss: 0.9650 - accuracy: 0.7074 - val_loss: 0.9244 - val_accuracy: 0.7209\n",
      "Epoch 3/30\n",
      "261/261 [==============================] - 99s 379ms/step - loss: 0.7968 - accuracy: 0.7417 - val_loss: 0.7166 - val_accuracy: 0.7704\n",
      "Epoch 4/30\n",
      "261/261 [==============================] - 100s 383ms/step - loss: 0.6587 - accuracy: 0.7815 - val_loss: 0.6602 - val_accuracy: 0.7848\n",
      "Epoch 5/30\n",
      "261/261 [==============================] - 105s 401ms/step - loss: 0.5667 - accuracy: 0.8067 - val_loss: 0.5527 - val_accuracy: 0.8165\n",
      "Epoch 6/30\n",
      "261/261 [==============================] - 105s 401ms/step - loss: 0.4777 - accuracy: 0.8384 - val_loss: 0.4602 - val_accuracy: 0.8516\n",
      "Epoch 7/30\n",
      "261/261 [==============================] - 107s 410ms/step - loss: 0.4072 - accuracy: 0.8586 - val_loss: 0.3348 - val_accuracy: 0.8886\n",
      "Epoch 8/30\n",
      "261/261 [==============================] - 102s 392ms/step - loss: 0.3752 - accuracy: 0.8709 - val_loss: 0.5315 - val_accuracy: 0.8223\n",
      "Epoch 9/30\n",
      "261/261 [==============================] - 125s 480ms/step - loss: 0.3354 - accuracy: 0.8867 - val_loss: 0.3520 - val_accuracy: 0.8900\n",
      "Epoch 10/30\n",
      "261/261 [==============================] - 106s 404ms/step - loss: 0.3056 - accuracy: 0.8969 - val_loss: 0.5020 - val_accuracy: 0.8463\n",
      "Epoch 11/30\n",
      "261/261 [==============================] - 105s 403ms/step - loss: 0.2649 - accuracy: 0.9110 - val_loss: 0.2762 - val_accuracy: 0.9217\n",
      "Epoch 12/30\n",
      "261/261 [==============================] - 101s 385ms/step - loss: 0.2486 - accuracy: 0.9152 - val_loss: 0.3013 - val_accuracy: 0.9126\n",
      "Epoch 13/30\n",
      "261/261 [==============================] - 106s 405ms/step - loss: 0.2393 - accuracy: 0.9184 - val_loss: 0.3120 - val_accuracy: 0.9092\n",
      "Epoch 14/30\n",
      "261/261 [==============================] - 123s 472ms/step - loss: 0.2176 - accuracy: 0.9229 - val_loss: 0.2380 - val_accuracy: 0.9289\n",
      "Epoch 15/30\n",
      "261/261 [==============================] - 119s 456ms/step - loss: 0.2071 - accuracy: 0.9291 - val_loss: 0.2489 - val_accuracy: 0.9438\n",
      "Epoch 16/30\n",
      "261/261 [==============================] - 100s 383ms/step - loss: 0.1818 - accuracy: 0.9387 - val_loss: 0.3732 - val_accuracy: 0.8943\n",
      "Epoch 17/30\n",
      "261/261 [==============================] - 95s 362ms/step - loss: 0.1786 - accuracy: 0.9395 - val_loss: 0.2829 - val_accuracy: 0.9198\n",
      "Epoch 18/30\n",
      "261/261 [==============================] - 94s 359ms/step - loss: 0.1711 - accuracy: 0.9407 - val_loss: 0.2616 - val_accuracy: 0.9304\n",
      "Epoch 19/30\n",
      "261/261 [==============================] - 101s 386ms/step - loss: 0.1792 - accuracy: 0.9401 - val_loss: 0.2864 - val_accuracy: 0.9232\n",
      "Epoch 20/30\n",
      "261/261 [==============================] - 99s 378ms/step - loss: 0.1496 - accuracy: 0.9480 - val_loss: 0.2631 - val_accuracy: 0.9361\n",
      "Epoch 21/30\n",
      "261/261 [==============================] - 118s 453ms/step - loss: 0.1348 - accuracy: 0.9530 - val_loss: 0.2042 - val_accuracy: 0.9553\n",
      "Epoch 22/30\n",
      "261/261 [==============================] - 95s 366ms/step - loss: 0.1385 - accuracy: 0.9511 - val_loss: 0.3000 - val_accuracy: 0.9318\n",
      "Epoch 23/30\n",
      "261/261 [==============================] - 99s 379ms/step - loss: 0.1387 - accuracy: 0.9497 - val_loss: 0.3061 - val_accuracy: 0.9236\n",
      "Epoch 24/30\n",
      "261/261 [==============================] - 116s 444ms/step - loss: 0.1247 - accuracy: 0.9577 - val_loss: 0.2382 - val_accuracy: 0.9438\n",
      "Epoch 25/30\n",
      "261/261 [==============================] - 101s 388ms/step - loss: 0.1224 - accuracy: 0.9576 - val_loss: 0.2669 - val_accuracy: 0.9409\n",
      "Epoch 26/30\n",
      "261/261 [==============================] - 121s 462ms/step - loss: 0.1233 - accuracy: 0.9576 - val_loss: 0.2590 - val_accuracy: 0.9352\n",
      "Epoch 27/30\n",
      "261/261 [==============================] - 120s 460ms/step - loss: 0.1365 - accuracy: 0.9538 - val_loss: 0.2963 - val_accuracy: 0.9260\n",
      "Epoch 28/30\n",
      "261/261 [==============================] - 103s 393ms/step - loss: 0.1059 - accuracy: 0.9629 - val_loss: 0.2400 - val_accuracy: 0.9452\n",
      "Epoch 29/30\n",
      "261/261 [==============================] - 106s 404ms/step - loss: 0.1178 - accuracy: 0.9593 - val_loss: 0.2417 - val_accuracy: 0.9428\n",
      "Epoch 30/30\n",
      "261/261 [==============================] - 101s 388ms/step - loss: 0.1250 - accuracy: 0.9570 - val_loss: 0.2824 - val_accuracy: 0.9294\n"
     ]
    }
   ],
   "source": [
    "# 1. Create the datagen generator\n",
    "datagen = ImageDataGenerator(\n",
    "    rotation_range=5,\n",
    "    width_shift_range=0.05,\n",
    "    height_shift_range=0.05,\n",
    "    horizontal_flip=True,\n",
    ")\n",
    "\n",
    "# 2. Fit the model using the generator\n",
    "history = model.fit(\n",
    "    datagen.flow(X_train, y_train, batch_size=BATCH_SIZE),\n",
    "    validation_data=(X_test, y_test),\n",
    "    epochs=EPOCHS,\n",
    "    callbacks=[EarlyStopping(patience=10, restore_best_weights=True)],\n",
    ")"
   ]
  },
  {
   "cell_type": "code",
   "execution_count": null,
   "id": "533597d2",
   "metadata": {},
   "outputs": [
    {
     "data": {
      "image/png": "[encoded data removed]",
      "text/plain": [
       "<Figure size 640x480 with 1 Axes>"
      ]
     },
     "metadata": {},
     "output_type": "display_data"
    }
   ],
   "source": [
    "plt.plot(history.history[\"accuracy\"], label=\"Train\")\n",
    "plt.plot(history.history[\"val_accuracy\"], label=\"Validation\")\n",
    "plt.title(\"Model Accuracy\")\n",
    "plt.xlabel(\"Epochs\")\n",
    "plt.ylabel(\"Accuracy\")\n",
    "plt.legend()\n",
    "plt.grid(True)\n",
    "plt.show()"
   ]
  },
  {
   "cell_type": "code",
   "execution_count": null,
   "id": "8de569ff",
   "metadata": {},
   "outputs": [
    {
     "name": "stdout",
     "output_type": "stream",
     "text": [
      "Saved predictions to task2_predictions.csv\n"
     ]
    }
   ],
   "source": [
    "IMAGE_DIR = \"Dataset/preprocessed_test_images\"\n",
    "\n",
    "\n",
    "def predict_variety(image_id):\n",
    "    try:\n",
    "        red = (\n",
    "            img_to_array(\n",
    "                load_img(f\"{IMAGE_DIR}/{image_id}_red.jpg\", target_size=IMG_SIZE)\n",
    "            )\n",
    "            / 255.0\n",
    "        )\n",
    "        green = (\n",
    "            img_to_array(\n",
    "                load_img(f\"{IMAGE_DIR}/{image_id}_green.jpg\", target_size=IMG_SIZE)\n",
    "            )\n",
    "            / 255.0\n",
    "        )\n",
    "        blue = (\n",
    "            img_to_array(\n",
    "                load_img(f\"{IMAGE_DIR}/{image_id}_blue.jpg\", target_size=IMG_SIZE)\n",
    "            )\n",
    "            / 255.0\n",
    "        )\n",
    "        spectral = (\n",
    "            img_to_array(\n",
    "                load_img(\n",
    "                    f\"{IMAGE_DIR}/{image_id}_nipy_spectral.jpg\",\n",
    "                    target_size=IMG_SIZE,\n",
    "                    color_mode=\"grayscale\",\n",
    "                )\n",
    "            )\n",
    "            / 255.0\n",
    "        )\n",
    "        spectral = np.repeat(spectral, 3, axis=-1)  # Convert grayscale to 3 channels\n",
    "\n",
    "        # Stack into (128, 128, 12)\n",
    "        img_array = np.concatenate([red, green, blue, spectral], axis=-1)\n",
    "        img_array = np.expand_dims(img_array, axis=0)\n",
    "\n",
    "        prediction = model.predict(img_array, verbose=0)\n",
    "        predicted_index = np.argmax(prediction)\n",
    "        predicted_variety = CLASS_NAMES[predicted_index]\n",
    "        return predicted_variety\n",
    "    except Exception as e:\n",
    "        print(f\"Skipping {image_id}: {e}\")\n",
    "        return None\n",
    "\n",
    "\n",
    "# Collect predictions\n",
    "all_files = os.listdir(IMAGE_DIR)\n",
    "image_ids = sorted(set(f.split(\"_\")[0] for f in all_files if f.endswith(\".jpg\")))\n",
    "\n",
    "results = []\n",
    "for image_id in image_ids:\n",
    "    variety = predict_variety(image_id)\n",
    "    if variety:\n",
    "        results.append({\"image_id\": f\"{image_id}.jpg\", \"variety\": variety})\n",
    "\n",
    "df = pd.DataFrame(results)\n",
    "df.to_csv(\"task2_predictions.csv\", index=False)\n",
    "print(\"Saved predictions to task2_predictions.csv\")"
   ]
  },
  {
   "cell_type": "code",
   "execution_count": 22,
   "id": "221dd8c8",
   "metadata": {},
   "outputs": [
    {
     "name": "stdout",
     "output_type": "stream",
     "text": [
      "66/66 [==============================] - 1s 10ms/step\n",
      "Accuracy on test set: 0.9293948126801153\n"
     ]
    }
   ],
   "source": [
    "y_pred = model.predict(X_test)\n",
    "y_pred_labels = np.argmax(y_pred, axis=1)\n",
    "y_true_labels = np.argmax(y_test, axis=1)\n",
    "\n",
    "acc = accuracy_score(y_true_labels, y_pred_labels)\n",
    "print(\"Accuracy on test set:\", acc)"
   ]
  },
  {
   "cell_type": "code",
   "execution_count": 23,
   "id": "8fbbff12",
   "metadata": {},
   "outputs": [
    {
     "data": {
      "text/plain": [
       "<sklearn.metrics._plot.confusion_matrix.ConfusionMatrixDisplay at 0x28eeb0f9840>"
      ]
     },
     "execution_count": 23,
     "metadata": {},
     "output_type": "execute_result"
    },
    {
     "data": {
      "image/png": "[encoded data removed]",
      "text/plain": [
       "<Figure size 640x480 with 2 Axes>"
      ]
     },
     "metadata": {},
     "output_type": "display_data"
    }
   ],
   "source": [
    "cm = confusion_matrix(y_true_labels, y_pred_labels)\n",
    "ConfusionMatrixDisplay(cm).plot()"
   ]
  },
  {
   "cell_type": "code",
   "execution_count": 24,
   "id": "1e7a92f2",
   "metadata": {},
   "outputs": [
    {
     "name": "stdout",
     "output_type": "stream",
     "text": [
      "                precision    recall  f1-score   support\n",
      "\n",
      "         ADT45       0.96      0.94      0.95      1399\n",
      "          IR20       1.00      0.96      0.98        23\n",
      "KarnatakaPonni       0.83      0.95      0.89       198\n",
      "      Onthanel       0.68      0.93      0.78        70\n",
      "         Ponni       0.88      0.93      0.90       132\n",
      "         Surya       1.00      0.33      0.50         6\n",
      "         Zonal       0.96      0.94      0.95        80\n",
      "    AndraPonni       0.95      0.84      0.89        75\n",
      "  AtchayaPonni       1.00      0.83      0.90        92\n",
      "            RR       0.67      0.57      0.62         7\n",
      "\n",
      "      accuracy                           0.93      2082\n",
      "     macro avg       0.89      0.82      0.84      2082\n",
      "  weighted avg       0.94      0.93      0.93      2082\n",
      "\n"
     ]
    }
   ],
   "source": [
    "print(classification_report(y_true_labels, y_pred_labels, target_names=CLASS_NAMES))"
   ]
  },
  {
   "cell_type": "code",
   "execution_count": null,
   "id": "6cfd1100",
   "metadata": {},
   "outputs": [],
   "source": [
    "model.save(\"task2_4_colors.keras\")"
   ]
  }
 ],
 "metadata": {
  "kernelspec": {
   "display_name": "myenv",
   "language": "python",
   "name": "python3"
  },
  "language_info": {
   "codemirror_mode": {
    "name": "ipython",
    "version": 3
   },
   "file_extension": ".py",
   "mimetype": "text/x-python",
   "name": "python",
   "nbconvert_exporter": "python",
   "pygments_lexer": "ipython3",
   "version": "3.12.9"
  }
 },
 "nbformat": 4,
 "nbformat_minor": 5
}
